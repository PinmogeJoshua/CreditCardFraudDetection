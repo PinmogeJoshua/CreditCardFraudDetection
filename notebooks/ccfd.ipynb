{
 "cells": [
  {
   "cell_type": "markdown",
   "metadata": {},
   "source": [
    "# 1 导入库并查看数据"
   ]
  },
  {
   "cell_type": "markdown",
   "metadata": {},
   "source": [
    "## 1.1 导入库"
   ]
  },
  {
   "cell_type": "code",
   "execution_count": 2,
   "metadata": {},
   "outputs": [],
   "source": [
    "import pandas as pd\n",
    "import numpy as np\n",
    "import seaborn as sns\n",
    "import matplotlib.pyplot as plt\n",
    "from sklearn.preprocessing import StandardScaler, MinMaxScaler\n",
    "from sklearn.model_selection import train_test_split, TimeSeriesSplit\n",
    "from sklearn.metrics import (roc_auc_score, precision_recall_curve, \n",
    "                           average_precision_score, confusion_matrix)\n",
    "import lightgbm as lgb\n",
    "import shap\n",
    "%matplotlib inline"
   ]
  },
  {
   "cell_type": "markdown",
   "metadata": {},
   "source": [
    "## 1.2 导入并查看数据"
   ]
  },
  {
   "cell_type": "code",
   "execution_count": 3,
   "metadata": {},
   "outputs": [
    {
     "name": "stdout",
     "output_type": "stream",
     "text": [
      "数据维度: (284807, 31)\n"
     ]
    },
    {
     "data": {
      "application/vnd.microsoft.datawrangler.viewer.v0+json": {
       "columns": [
        {
         "name": "index",
         "rawType": "int64",
         "type": "integer"
        },
        {
         "name": "Time",
         "rawType": "float64",
         "type": "float"
        },
        {
         "name": "V1",
         "rawType": "float64",
         "type": "float"
        },
        {
         "name": "V2",
         "rawType": "float64",
         "type": "float"
        },
        {
         "name": "V3",
         "rawType": "float64",
         "type": "float"
        },
        {
         "name": "V4",
         "rawType": "float64",
         "type": "float"
        },
        {
         "name": "V5",
         "rawType": "float64",
         "type": "float"
        },
        {
         "name": "V6",
         "rawType": "float64",
         "type": "float"
        },
        {
         "name": "V7",
         "rawType": "float64",
         "type": "float"
        },
        {
         "name": "V8",
         "rawType": "float64",
         "type": "float"
        },
        {
         "name": "V9",
         "rawType": "float64",
         "type": "float"
        },
        {
         "name": "V10",
         "rawType": "float64",
         "type": "float"
        },
        {
         "name": "V11",
         "rawType": "float64",
         "type": "float"
        },
        {
         "name": "V12",
         "rawType": "float64",
         "type": "float"
        },
        {
         "name": "V13",
         "rawType": "float64",
         "type": "float"
        },
        {
         "name": "V14",
         "rawType": "float64",
         "type": "float"
        },
        {
         "name": "V15",
         "rawType": "float64",
         "type": "float"
        },
        {
         "name": "V16",
         "rawType": "float64",
         "type": "float"
        },
        {
         "name": "V17",
         "rawType": "float64",
         "type": "float"
        },
        {
         "name": "V18",
         "rawType": "float64",
         "type": "float"
        },
        {
         "name": "V19",
         "rawType": "float64",
         "type": "float"
        },
        {
         "name": "V20",
         "rawType": "float64",
         "type": "float"
        },
        {
         "name": "V21",
         "rawType": "float64",
         "type": "float"
        },
        {
         "name": "V22",
         "rawType": "float64",
         "type": "float"
        },
        {
         "name": "V23",
         "rawType": "float64",
         "type": "float"
        },
        {
         "name": "V24",
         "rawType": "float64",
         "type": "float"
        },
        {
         "name": "V25",
         "rawType": "float64",
         "type": "float"
        },
        {
         "name": "V26",
         "rawType": "float64",
         "type": "float"
        },
        {
         "name": "V27",
         "rawType": "float64",
         "type": "float"
        },
        {
         "name": "V28",
         "rawType": "float64",
         "type": "float"
        },
        {
         "name": "Amount",
         "rawType": "float64",
         "type": "float"
        },
        {
         "name": "Class",
         "rawType": "int64",
         "type": "integer"
        }
       ],
       "conversionMethod": "pd.DataFrame",
       "ref": "d96ac866-6bc4-48cd-b94c-abe3a4d037be",
       "rows": [
        [
         "0",
         "0.0",
         "-1.3598071336738",
         "-0.0727811733098497",
         "2.53634673796914",
         "1.37815522427443",
         "-0.338320769942518",
         "0.462387777762292",
         "0.239598554061257",
         "0.0986979012610507",
         "0.363786969611213",
         "0.0907941719789316",
         "-0.551599533260813",
         "-0.617800855762348",
         "-0.991389847235408",
         "-0.311169353699879",
         "1.46817697209427",
         "-0.470400525259478",
         "0.207971241929242",
         "0.0257905801985591",
         "0.403992960255733",
         "0.251412098239705",
         "-0.018306777944153",
         "0.277837575558899",
         "-0.110473910188767",
         "0.0669280749146731",
         "0.128539358273528",
         "-0.189114843888824",
         "0.133558376740387",
         "-0.0210530534538215",
         "149.62",
         "0"
        ],
        [
         "1",
         "0.0",
         "1.19185711131486",
         "0.26615071205963",
         "0.16648011335321",
         "0.448154078460911",
         "0.0600176492822243",
         "-0.0823608088155687",
         "-0.0788029833323113",
         "0.0851016549148104",
         "-0.255425128109186",
         "-0.166974414004614",
         "1.61272666105479",
         "1.06523531137287",
         "0.48909501589608",
         "-0.143772296441519",
         "0.635558093258208",
         "0.463917041022171",
         "-0.114804663102346",
         "-0.183361270123994",
         "-0.145783041325259",
         "-0.0690831352230203",
         "-0.225775248033138",
         "-0.638671952771851",
         "0.101288021253234",
         "-0.339846475529127",
         "0.167170404418143",
         "0.125894532368176",
         "-0.0089830991432281",
         "0.0147241691924927",
         "2.69",
         "0"
        ],
        [
         "2",
         "1.0",
         "-1.35835406159823",
         "-1.34016307473609",
         "1.77320934263119",
         "0.379779593034328",
         "-0.503198133318193",
         "1.80049938079263",
         "0.791460956450422",
         "0.247675786588991",
         "-1.51465432260583",
         "0.207642865216696",
         "0.624501459424895",
         "0.066083685268831",
         "0.717292731410831",
         "-0.165945922763554",
         "2.34586494901581",
         "-2.89008319444231",
         "1.10996937869599",
         "-0.121359313195888",
         "-2.26185709530414",
         "0.524979725224404",
         "0.247998153469754",
         "0.771679401917229",
         "0.909412262347719",
         "-0.689280956490685",
         "-0.327641833735251",
         "-0.139096571514147",
         "-0.0553527940384261",
         "-0.0597518405929204",
         "378.66",
         "0"
        ],
        [
         "3",
         "1.0",
         "-0.966271711572087",
         "-0.185226008082898",
         "1.79299333957872",
         "-0.863291275036453",
         "-0.0103088796030823",
         "1.24720316752486",
         "0.23760893977178",
         "0.377435874652262",
         "-1.38702406270197",
         "-0.0549519224713749",
         "-0.226487263835401",
         "0.178228225877303",
         "0.507756869957169",
         "-0.28792374549456",
         "-0.631418117709045",
         "-1.0596472454325",
         "-0.684092786345479",
         "1.96577500349538",
         "-1.2326219700892",
         "-0.208037781160366",
         "-0.108300452035545",
         "0.0052735967825345",
         "-0.190320518742841",
         "-1.17557533186321",
         "0.647376034602038",
         "-0.221928844458407",
         "0.0627228487293033",
         "0.0614576285006353",
         "123.5",
         "0"
        ],
        [
         "4",
         "2.0",
         "-1.15823309349523",
         "0.877736754848451",
         "1.548717846511",
         "0.403033933955121",
         "-0.407193377311653",
         "0.0959214624684256",
         "0.592940745385545",
         "-0.270532677192282",
         "0.817739308235294",
         "0.753074431976354",
         "-0.822842877946363",
         "0.53819555014995",
         "1.3458515932154",
         "-1.11966983471731",
         "0.175121130008994",
         "-0.451449182813529",
         "-0.237033239362776",
         "-0.0381947870352842",
         "0.803486924960175",
         "0.408542360392758",
         "-0.0094306971323291",
         "0.79827849458971",
         "-0.137458079619063",
         "0.141266983824769",
         "-0.206009587619756",
         "0.502292224181569",
         "0.219422229513348",
         "0.215153147499206",
         "69.99",
         "0"
        ]
       ],
       "shape": {
        "columns": 31,
        "rows": 5
       }
      },
      "text/html": [
       "<div>\n",
       "<style scoped>\n",
       "    .dataframe tbody tr th:only-of-type {\n",
       "        vertical-align: middle;\n",
       "    }\n",
       "\n",
       "    .dataframe tbody tr th {\n",
       "        vertical-align: top;\n",
       "    }\n",
       "\n",
       "    .dataframe thead th {\n",
       "        text-align: right;\n",
       "    }\n",
       "</style>\n",
       "<table border=\"1\" class=\"dataframe\">\n",
       "  <thead>\n",
       "    <tr style=\"text-align: right;\">\n",
       "      <th></th>\n",
       "      <th>Time</th>\n",
       "      <th>V1</th>\n",
       "      <th>V2</th>\n",
       "      <th>V3</th>\n",
       "      <th>V4</th>\n",
       "      <th>V5</th>\n",
       "      <th>V6</th>\n",
       "      <th>V7</th>\n",
       "      <th>V8</th>\n",
       "      <th>V9</th>\n",
       "      <th>...</th>\n",
       "      <th>V21</th>\n",
       "      <th>V22</th>\n",
       "      <th>V23</th>\n",
       "      <th>V24</th>\n",
       "      <th>V25</th>\n",
       "      <th>V26</th>\n",
       "      <th>V27</th>\n",
       "      <th>V28</th>\n",
       "      <th>Amount</th>\n",
       "      <th>Class</th>\n",
       "    </tr>\n",
       "  </thead>\n",
       "  <tbody>\n",
       "    <tr>\n",
       "      <th>0</th>\n",
       "      <td>0.0</td>\n",
       "      <td>-1.359807</td>\n",
       "      <td>-0.072781</td>\n",
       "      <td>2.536347</td>\n",
       "      <td>1.378155</td>\n",
       "      <td>-0.338321</td>\n",
       "      <td>0.462388</td>\n",
       "      <td>0.239599</td>\n",
       "      <td>0.098698</td>\n",
       "      <td>0.363787</td>\n",
       "      <td>...</td>\n",
       "      <td>-0.018307</td>\n",
       "      <td>0.277838</td>\n",
       "      <td>-0.110474</td>\n",
       "      <td>0.066928</td>\n",
       "      <td>0.128539</td>\n",
       "      <td>-0.189115</td>\n",
       "      <td>0.133558</td>\n",
       "      <td>-0.021053</td>\n",
       "      <td>149.62</td>\n",
       "      <td>0</td>\n",
       "    </tr>\n",
       "    <tr>\n",
       "      <th>1</th>\n",
       "      <td>0.0</td>\n",
       "      <td>1.191857</td>\n",
       "      <td>0.266151</td>\n",
       "      <td>0.166480</td>\n",
       "      <td>0.448154</td>\n",
       "      <td>0.060018</td>\n",
       "      <td>-0.082361</td>\n",
       "      <td>-0.078803</td>\n",
       "      <td>0.085102</td>\n",
       "      <td>-0.255425</td>\n",
       "      <td>...</td>\n",
       "      <td>-0.225775</td>\n",
       "      <td>-0.638672</td>\n",
       "      <td>0.101288</td>\n",
       "      <td>-0.339846</td>\n",
       "      <td>0.167170</td>\n",
       "      <td>0.125895</td>\n",
       "      <td>-0.008983</td>\n",
       "      <td>0.014724</td>\n",
       "      <td>2.69</td>\n",
       "      <td>0</td>\n",
       "    </tr>\n",
       "    <tr>\n",
       "      <th>2</th>\n",
       "      <td>1.0</td>\n",
       "      <td>-1.358354</td>\n",
       "      <td>-1.340163</td>\n",
       "      <td>1.773209</td>\n",
       "      <td>0.379780</td>\n",
       "      <td>-0.503198</td>\n",
       "      <td>1.800499</td>\n",
       "      <td>0.791461</td>\n",
       "      <td>0.247676</td>\n",
       "      <td>-1.514654</td>\n",
       "      <td>...</td>\n",
       "      <td>0.247998</td>\n",
       "      <td>0.771679</td>\n",
       "      <td>0.909412</td>\n",
       "      <td>-0.689281</td>\n",
       "      <td>-0.327642</td>\n",
       "      <td>-0.139097</td>\n",
       "      <td>-0.055353</td>\n",
       "      <td>-0.059752</td>\n",
       "      <td>378.66</td>\n",
       "      <td>0</td>\n",
       "    </tr>\n",
       "    <tr>\n",
       "      <th>3</th>\n",
       "      <td>1.0</td>\n",
       "      <td>-0.966272</td>\n",
       "      <td>-0.185226</td>\n",
       "      <td>1.792993</td>\n",
       "      <td>-0.863291</td>\n",
       "      <td>-0.010309</td>\n",
       "      <td>1.247203</td>\n",
       "      <td>0.237609</td>\n",
       "      <td>0.377436</td>\n",
       "      <td>-1.387024</td>\n",
       "      <td>...</td>\n",
       "      <td>-0.108300</td>\n",
       "      <td>0.005274</td>\n",
       "      <td>-0.190321</td>\n",
       "      <td>-1.175575</td>\n",
       "      <td>0.647376</td>\n",
       "      <td>-0.221929</td>\n",
       "      <td>0.062723</td>\n",
       "      <td>0.061458</td>\n",
       "      <td>123.50</td>\n",
       "      <td>0</td>\n",
       "    </tr>\n",
       "    <tr>\n",
       "      <th>4</th>\n",
       "      <td>2.0</td>\n",
       "      <td>-1.158233</td>\n",
       "      <td>0.877737</td>\n",
       "      <td>1.548718</td>\n",
       "      <td>0.403034</td>\n",
       "      <td>-0.407193</td>\n",
       "      <td>0.095921</td>\n",
       "      <td>0.592941</td>\n",
       "      <td>-0.270533</td>\n",
       "      <td>0.817739</td>\n",
       "      <td>...</td>\n",
       "      <td>-0.009431</td>\n",
       "      <td>0.798278</td>\n",
       "      <td>-0.137458</td>\n",
       "      <td>0.141267</td>\n",
       "      <td>-0.206010</td>\n",
       "      <td>0.502292</td>\n",
       "      <td>0.219422</td>\n",
       "      <td>0.215153</td>\n",
       "      <td>69.99</td>\n",
       "      <td>0</td>\n",
       "    </tr>\n",
       "  </tbody>\n",
       "</table>\n",
       "<p>5 rows × 31 columns</p>\n",
       "</div>"
      ],
      "text/plain": [
       "   Time        V1        V2        V3        V4        V5        V6        V7  \\\n",
       "0   0.0 -1.359807 -0.072781  2.536347  1.378155 -0.338321  0.462388  0.239599   \n",
       "1   0.0  1.191857  0.266151  0.166480  0.448154  0.060018 -0.082361 -0.078803   \n",
       "2   1.0 -1.358354 -1.340163  1.773209  0.379780 -0.503198  1.800499  0.791461   \n",
       "3   1.0 -0.966272 -0.185226  1.792993 -0.863291 -0.010309  1.247203  0.237609   \n",
       "4   2.0 -1.158233  0.877737  1.548718  0.403034 -0.407193  0.095921  0.592941   \n",
       "\n",
       "         V8        V9  ...       V21       V22       V23       V24       V25  \\\n",
       "0  0.098698  0.363787  ... -0.018307  0.277838 -0.110474  0.066928  0.128539   \n",
       "1  0.085102 -0.255425  ... -0.225775 -0.638672  0.101288 -0.339846  0.167170   \n",
       "2  0.247676 -1.514654  ...  0.247998  0.771679  0.909412 -0.689281 -0.327642   \n",
       "3  0.377436 -1.387024  ... -0.108300  0.005274 -0.190321 -1.175575  0.647376   \n",
       "4 -0.270533  0.817739  ... -0.009431  0.798278 -0.137458  0.141267 -0.206010   \n",
       "\n",
       "        V26       V27       V28  Amount  Class  \n",
       "0 -0.189115  0.133558 -0.021053  149.62      0  \n",
       "1  0.125895 -0.008983  0.014724    2.69      0  \n",
       "2 -0.139097 -0.055353 -0.059752  378.66      0  \n",
       "3 -0.221929  0.062723  0.061458  123.50      0  \n",
       "4  0.502292  0.219422  0.215153   69.99      0  \n",
       "\n",
       "[5 rows x 31 columns]"
      ]
     },
     "execution_count": 3,
     "metadata": {},
     "output_type": "execute_result"
    }
   ],
   "source": [
    "data = pd.read_csv('../data/creditcard.csv')\n",
    "print(\"数据维度:\", data.shape)\n",
    "data.head()"
   ]
  },
  {
   "cell_type": "markdown",
   "metadata": {},
   "source": [
    "# 2 数据预处理"
   ]
  },
  {
   "cell_type": "markdown",
   "metadata": {},
   "source": [
    "## 2.1 时间特征工程"
   ]
  },
  {
   "cell_type": "code",
   "execution_count": 13,
   "metadata": {},
   "outputs": [],
   "source": [
    "# 将Time转换为小时和分钟\n",
    "data['Hour'] = data['Time'] // 3600 % 24\n",
    "data['Minute'] = (data['Time'] // 60) % 60\n",
    "# 周期性编码\n",
    "data['Hour_sin'] = np.sin(2 * np.pi * data['Hour'] / 24)\n",
    "data['Hour_cos'] = np.cos(2 * np.pi * data['Hour'] / 24)"
   ]
  },
  {
   "cell_type": "code",
   "execution_count": 15,
   "metadata": {},
   "outputs": [
    {
     "name": "stdout",
     "output_type": "stream",
     "text": [
      "创建的时间特征:\n",
      "   Hour  Minute TimePeriod  TimeDelta  Hour_sin  Hour_cos\n",
      "0   0.0     0.0         深夜        0.0       0.0       1.0\n",
      "1   0.0     0.0         深夜        0.0       0.0       1.0\n",
      "2   0.0     0.0         深夜        1.0       0.0       1.0\n",
      "3   0.0     0.0         深夜        0.0       0.0       1.0\n",
      "4   0.0     0.0         深夜        1.0       0.0       1.0\n"
     ]
    }
   ],
   "source": [
    "# 时间段分类\n",
    "time_periods = [0, 6, 12, 18, 24]\n",
    "period_labels = ['深夜', '上午', '下午', '晚上']\n",
    "data['TimePeriod'] = pd.cut(data['Hour'], bins=time_periods, labels=period_labels, right=False)\n",
    "\n",
    "# 交易间隔特征\n",
    "data = data.sort_values('Time')\n",
    "data['TimeDelta'] = data['Time'].diff().fillna(0)\n",
    "\n",
    "print(\"创建的时间特征:\")\n",
    "print(data[['Hour', 'Minute', 'TimePeriod', 'TimeDelta', 'Hour_sin', 'Hour_cos']].head())"
   ]
  },
  {
   "cell_type": "markdown",
   "metadata": {},
   "source": [
    "## 2.2 检查数据分布"
   ]
  },
  {
   "cell_type": "markdown",
   "metadata": {},
   "source": [
    "### 2.2.1 直方图"
   ]
  },
  {
   "cell_type": "code",
   "execution_count": null,
   "metadata": {},
   "outputs": [],
   "source": [
    "# 设置图形大小\n",
    "num_features = len(data.columns)  # 特征数量\n",
    "cols = 5  # 每行显示的图表数量\n",
    "rows = (num_features + cols - 1) // cols  # 计算行数\n",
    "\n",
    "fig, axes = plt.subplots(rows, cols, figsize=(cols * 4, rows * 3))  # 设置子图网格\n",
    "axes = axes.flatten()  # 将子图对象展平，方便迭代\n",
    "\n",
    "for i, column in enumerate(data.columns):\n",
    "    if column != 'Class':  # 排除目标变量\n",
    "        ax = axes[i]\n",
    "        data[column].hist(bins=30, alpha=0.7, ax=ax)  # 绘制直方图\n",
    "        ax.set_title(column)  # 设置标题\n",
    "        ax.set_xlabel(\"Value\")\n",
    "        ax.set_ylabel(\"Frequency\")\n",
    "\n",
    "# 如果子图数量多于特征数量，隐藏多余的子图\n",
    "for i in range(len(data.columns), len(axes)):\n",
    "    axes[i].set_visible(False)\n",
    "\n",
    "plt.tight_layout()  # 自动调整子图间距\n",
    "plt.show()"
   ]
  },
  {
   "cell_type": "markdown",
   "metadata": {},
   "source": [
    "### 2.2.2 密度图"
   ]
  },
  {
   "cell_type": "code",
   "execution_count": null,
   "metadata": {},
   "outputs": [],
   "source": [
    "# 设置图形大小\n",
    "num_features = len(data.columns)  # 特征数量\n",
    "cols = 5  # 每行显示的图表数量\n",
    "rows = (num_features + cols - 1) // cols  # 计算行数\n",
    "\n",
    "fig, axes = plt.subplots(rows, cols, figsize=(cols * 4, rows * 3))  # 设置子图网格\n",
    "axes = axes.flatten()  # 将子图对象展平以便于迭代\n",
    "\n",
    "for i, column in enumerate(data.columns):\n",
    "    if column != 'Class':  # 排除目标变量\n",
    "        ax = axes[i]\n",
    "        sns.kdeplot(data[column], ax=ax, shade=True)  # 绘制密度图\n",
    "        ax.set_title(column)  # 设置标题\n",
    "        ax.set_xlabel(\"Value\")\n",
    "        ax.set_ylabel(\"Density\")\n",
    "\n",
    "# 如果子图数量多于特征数量，隐藏多余的子图\n",
    "for i in range(len(data.columns), len(axes)):\n",
    "    axes[i].set_visible(False)\n",
    "\n",
    "plt.tight_layout()  # 自动调整子图间距\n",
    "plt.show()"
   ]
  },
  {
   "cell_type": "markdown",
   "metadata": {},
   "source": [
    "# 3 数据可视化"
   ]
  },
  {
   "cell_type": "markdown",
   "metadata": {},
   "source": [
    "## 3.1 欺诈交易时间模式分析"
   ]
  },
  {
   "cell_type": "code",
   "execution_count": 16,
   "metadata": {},
   "outputs": [
    {
     "name": "stderr",
     "output_type": "stream",
     "text": [
      "/var/folders/yw/n5fj9fwn7xx7d6pz1kx9r_lc0000gn/T/ipykernel_2145/2405238487.py:3: FutureWarning: The default of observed=False is deprecated and will be changed to True in a future version of pandas. Pass observed=False to retain current behavior or observed=True to adopt the future default and silence this warning.\n",
      "  fraud_by_period = data.groupby('TimePeriod')['Class'].mean() * 100\n",
      "/var/folders/yw/n5fj9fwn7xx7d6pz1kx9r_lc0000gn/T/ipykernel_2145/2405238487.py:9: UserWarning: Glyph 28145 (\\N{CJK UNIFIED IDEOGRAPH-6DF1}) missing from font(s) DejaVu Sans.\n",
      "  plt.tight_layout()\n",
      "/var/folders/yw/n5fj9fwn7xx7d6pz1kx9r_lc0000gn/T/ipykernel_2145/2405238487.py:9: UserWarning: Glyph 22812 (\\N{CJK UNIFIED IDEOGRAPH-591C}) missing from font(s) DejaVu Sans.\n",
      "  plt.tight_layout()\n",
      "/var/folders/yw/n5fj9fwn7xx7d6pz1kx9r_lc0000gn/T/ipykernel_2145/2405238487.py:9: UserWarning: Glyph 19978 (\\N{CJK UNIFIED IDEOGRAPH-4E0A}) missing from font(s) DejaVu Sans.\n",
      "  plt.tight_layout()\n",
      "/var/folders/yw/n5fj9fwn7xx7d6pz1kx9r_lc0000gn/T/ipykernel_2145/2405238487.py:9: UserWarning: Glyph 21320 (\\N{CJK UNIFIED IDEOGRAPH-5348}) missing from font(s) DejaVu Sans.\n",
      "  plt.tight_layout()\n",
      "/var/folders/yw/n5fj9fwn7xx7d6pz1kx9r_lc0000gn/T/ipykernel_2145/2405238487.py:9: UserWarning: Glyph 19979 (\\N{CJK UNIFIED IDEOGRAPH-4E0B}) missing from font(s) DejaVu Sans.\n",
      "  plt.tight_layout()\n",
      "/var/folders/yw/n5fj9fwn7xx7d6pz1kx9r_lc0000gn/T/ipykernel_2145/2405238487.py:9: UserWarning: Glyph 26202 (\\N{CJK UNIFIED IDEOGRAPH-665A}) missing from font(s) DejaVu Sans.\n",
      "  plt.tight_layout()\n",
      "/var/folders/yw/n5fj9fwn7xx7d6pz1kx9r_lc0000gn/T/ipykernel_2145/2405238487.py:9: UserWarning: Glyph 26102 (\\N{CJK UNIFIED IDEOGRAPH-65F6}) missing from font(s) DejaVu Sans.\n",
      "  plt.tight_layout()\n",
      "/var/folders/yw/n5fj9fwn7xx7d6pz1kx9r_lc0000gn/T/ipykernel_2145/2405238487.py:9: UserWarning: Glyph 38388 (\\N{CJK UNIFIED IDEOGRAPH-95F4}) missing from font(s) DejaVu Sans.\n",
      "  plt.tight_layout()\n",
      "/var/folders/yw/n5fj9fwn7xx7d6pz1kx9r_lc0000gn/T/ipykernel_2145/2405238487.py:9: UserWarning: Glyph 27573 (\\N{CJK UNIFIED IDEOGRAPH-6BB5}) missing from font(s) DejaVu Sans.\n",
      "  plt.tight_layout()\n",
      "/var/folders/yw/n5fj9fwn7xx7d6pz1kx9r_lc0000gn/T/ipykernel_2145/2405238487.py:9: UserWarning: Glyph 27450 (\\N{CJK UNIFIED IDEOGRAPH-6B3A}) missing from font(s) DejaVu Sans.\n",
      "  plt.tight_layout()\n",
      "/var/folders/yw/n5fj9fwn7xx7d6pz1kx9r_lc0000gn/T/ipykernel_2145/2405238487.py:9: UserWarning: Glyph 35784 (\\N{CJK UNIFIED IDEOGRAPH-8BC8}) missing from font(s) DejaVu Sans.\n",
      "  plt.tight_layout()\n",
      "/var/folders/yw/n5fj9fwn7xx7d6pz1kx9r_lc0000gn/T/ipykernel_2145/2405238487.py:9: UserWarning: Glyph 29575 (\\N{CJK UNIFIED IDEOGRAPH-7387}) missing from font(s) DejaVu Sans.\n",
      "  plt.tight_layout()\n",
      "/var/folders/yw/n5fj9fwn7xx7d6pz1kx9r_lc0000gn/T/ipykernel_2145/2405238487.py:9: UserWarning: Glyph 21508 (\\N{CJK UNIFIED IDEOGRAPH-5404}) missing from font(s) DejaVu Sans.\n",
      "  plt.tight_layout()\n",
      "/var/folders/yw/n5fj9fwn7xx7d6pz1kx9r_lc0000gn/T/ipykernel_2145/2405238487.py:9: UserWarning: Glyph 30340 (\\N{CJK UNIFIED IDEOGRAPH-7684}) missing from font(s) DejaVu Sans.\n",
      "  plt.tight_layout()\n",
      "/opt/anaconda3/envs/ccfd/lib/python3.9/site-packages/IPython/core/pylabtools.py:152: UserWarning: Glyph 27450 (\\N{CJK UNIFIED IDEOGRAPH-6B3A}) missing from font(s) DejaVu Sans.\n",
      "  fig.canvas.print_figure(bytes_io, **kw)\n",
      "/opt/anaconda3/envs/ccfd/lib/python3.9/site-packages/IPython/core/pylabtools.py:152: UserWarning: Glyph 35784 (\\N{CJK UNIFIED IDEOGRAPH-8BC8}) missing from font(s) DejaVu Sans.\n",
      "  fig.canvas.print_figure(bytes_io, **kw)\n",
      "/opt/anaconda3/envs/ccfd/lib/python3.9/site-packages/IPython/core/pylabtools.py:152: UserWarning: Glyph 29575 (\\N{CJK UNIFIED IDEOGRAPH-7387}) missing from font(s) DejaVu Sans.\n",
      "  fig.canvas.print_figure(bytes_io, **kw)\n",
      "/opt/anaconda3/envs/ccfd/lib/python3.9/site-packages/IPython/core/pylabtools.py:152: UserWarning: Glyph 21508 (\\N{CJK UNIFIED IDEOGRAPH-5404}) missing from font(s) DejaVu Sans.\n",
      "  fig.canvas.print_figure(bytes_io, **kw)\n",
      "/opt/anaconda3/envs/ccfd/lib/python3.9/site-packages/IPython/core/pylabtools.py:152: UserWarning: Glyph 26102 (\\N{CJK UNIFIED IDEOGRAPH-65F6}) missing from font(s) DejaVu Sans.\n",
      "  fig.canvas.print_figure(bytes_io, **kw)\n",
      "/opt/anaconda3/envs/ccfd/lib/python3.9/site-packages/IPython/core/pylabtools.py:152: UserWarning: Glyph 38388 (\\N{CJK UNIFIED IDEOGRAPH-95F4}) missing from font(s) DejaVu Sans.\n",
      "  fig.canvas.print_figure(bytes_io, **kw)\n",
      "/opt/anaconda3/envs/ccfd/lib/python3.9/site-packages/IPython/core/pylabtools.py:152: UserWarning: Glyph 27573 (\\N{CJK UNIFIED IDEOGRAPH-6BB5}) missing from font(s) DejaVu Sans.\n",
      "  fig.canvas.print_figure(bytes_io, **kw)\n",
      "/opt/anaconda3/envs/ccfd/lib/python3.9/site-packages/IPython/core/pylabtools.py:152: UserWarning: Glyph 30340 (\\N{CJK UNIFIED IDEOGRAPH-7684}) missing from font(s) DejaVu Sans.\n",
      "  fig.canvas.print_figure(bytes_io, **kw)\n",
      "/opt/anaconda3/envs/ccfd/lib/python3.9/site-packages/IPython/core/pylabtools.py:152: UserWarning: Glyph 28145 (\\N{CJK UNIFIED IDEOGRAPH-6DF1}) missing from font(s) DejaVu Sans.\n",
      "  fig.canvas.print_figure(bytes_io, **kw)\n",
      "/opt/anaconda3/envs/ccfd/lib/python3.9/site-packages/IPython/core/pylabtools.py:152: UserWarning: Glyph 22812 (\\N{CJK UNIFIED IDEOGRAPH-591C}) missing from font(s) DejaVu Sans.\n",
      "  fig.canvas.print_figure(bytes_io, **kw)\n",
      "/opt/anaconda3/envs/ccfd/lib/python3.9/site-packages/IPython/core/pylabtools.py:152: UserWarning: Glyph 19978 (\\N{CJK UNIFIED IDEOGRAPH-4E0A}) missing from font(s) DejaVu Sans.\n",
      "  fig.canvas.print_figure(bytes_io, **kw)\n",
      "/opt/anaconda3/envs/ccfd/lib/python3.9/site-packages/IPython/core/pylabtools.py:152: UserWarning: Glyph 21320 (\\N{CJK UNIFIED IDEOGRAPH-5348}) missing from font(s) DejaVu Sans.\n",
      "  fig.canvas.print_figure(bytes_io, **kw)\n",
      "/opt/anaconda3/envs/ccfd/lib/python3.9/site-packages/IPython/core/pylabtools.py:152: UserWarning: Glyph 19979 (\\N{CJK UNIFIED IDEOGRAPH-4E0B}) missing from font(s) DejaVu Sans.\n",
      "  fig.canvas.print_figure(bytes_io, **kw)\n",
      "/opt/anaconda3/envs/ccfd/lib/python3.9/site-packages/IPython/core/pylabtools.py:152: UserWarning: Glyph 26202 (\\N{CJK UNIFIED IDEOGRAPH-665A}) missing from font(s) DejaVu Sans.\n",
      "  fig.canvas.print_figure(bytes_io, **kw)\n"
     ]
    },
    {
     "data": {
      "image/png": "[encoded data removed]",
      "text/plain": [
       "<Figure size 1000x600 with 1 Axes>"
      ]
     },
     "metadata": {},
     "output_type": "display_data"
    }
   ],
   "source": [
    "# 时间段与欺诈率关系分析\n",
    "plt.figure(figsize=(10, 6))\n",
    "fraud_by_period = data.groupby('TimePeriod')['Class'].mean() * 100\n",
    "fraud_by_period.plot(kind='bar', color='orange')\n",
    "plt.title('各时间段的欺诈率 (%)')\n",
    "plt.xlabel('时间段')\n",
    "plt.ylabel('欺诈率 (%)')\n",
    "plt.grid(axis='y', linestyle='--', alpha=0.7)\n",
    "plt.tight_layout()\n",
    "plt.show()"
   ]
  },
  {
   "cell_type": "code",
   "execution_count": 17,
   "metadata": {},
   "outputs": [
    {
     "name": "stderr",
     "output_type": "stream",
     "text": [
      "/opt/anaconda3/envs/ccfd/lib/python3.9/site-packages/IPython/core/pylabtools.py:152: UserWarning: Glyph 20132 (\\N{CJK UNIFIED IDEOGRAPH-4EA4}) missing from font(s) DejaVu Sans.\n",
      "  fig.canvas.print_figure(bytes_io, **kw)\n",
      "/opt/anaconda3/envs/ccfd/lib/python3.9/site-packages/IPython/core/pylabtools.py:152: UserWarning: Glyph 26131 (\\N{CJK UNIFIED IDEOGRAPH-6613}) missing from font(s) DejaVu Sans.\n",
      "  fig.canvas.print_figure(bytes_io, **kw)\n",
      "/opt/anaconda3/envs/ccfd/lib/python3.9/site-packages/IPython/core/pylabtools.py:152: UserWarning: Glyph 38388 (\\N{CJK UNIFIED IDEOGRAPH-95F4}) missing from font(s) DejaVu Sans.\n",
      "  fig.canvas.print_figure(bytes_io, **kw)\n",
      "/opt/anaconda3/envs/ccfd/lib/python3.9/site-packages/IPython/core/pylabtools.py:152: UserWarning: Glyph 38548 (\\N{CJK UNIFIED IDEOGRAPH-9694}) missing from font(s) DejaVu Sans.\n",
      "  fig.canvas.print_figure(bytes_io, **kw)\n",
      "/opt/anaconda3/envs/ccfd/lib/python3.9/site-packages/IPython/core/pylabtools.py:152: UserWarning: Glyph 31186 (\\N{CJK UNIFIED IDEOGRAPH-79D2}) missing from font(s) DejaVu Sans.\n",
      "  fig.canvas.print_figure(bytes_io, **kw)\n",
      "/opt/anaconda3/envs/ccfd/lib/python3.9/site-packages/IPython/core/pylabtools.py:152: UserWarning: Glyph 19982 (\\N{CJK UNIFIED IDEOGRAPH-4E0E}) missing from font(s) DejaVu Sans.\n",
      "  fig.canvas.print_figure(bytes_io, **kw)\n",
      "/opt/anaconda3/envs/ccfd/lib/python3.9/site-packages/IPython/core/pylabtools.py:152: UserWarning: Glyph 27450 (\\N{CJK UNIFIED IDEOGRAPH-6B3A}) missing from font(s) DejaVu Sans.\n",
      "  fig.canvas.print_figure(bytes_io, **kw)\n",
      "/opt/anaconda3/envs/ccfd/lib/python3.9/site-packages/IPython/core/pylabtools.py:152: UserWarning: Glyph 35784 (\\N{CJK UNIFIED IDEOGRAPH-8BC8}) missing from font(s) DejaVu Sans.\n",
      "  fig.canvas.print_figure(bytes_io, **kw)\n",
      "/opt/anaconda3/envs/ccfd/lib/python3.9/site-packages/IPython/core/pylabtools.py:152: UserWarning: Glyph 20851 (\\N{CJK UNIFIED IDEOGRAPH-5173}) missing from font(s) DejaVu Sans.\n",
      "  fig.canvas.print_figure(bytes_io, **kw)\n",
      "/opt/anaconda3/envs/ccfd/lib/python3.9/site-packages/IPython/core/pylabtools.py:152: UserWarning: Glyph 31995 (\\N{CJK UNIFIED IDEOGRAPH-7CFB}) missing from font(s) DejaVu Sans.\n",
      "  fig.canvas.print_figure(bytes_io, **kw)\n",
      "/opt/anaconda3/envs/ccfd/lib/python3.9/site-packages/IPython/core/pylabtools.py:152: UserWarning: Glyph 26631 (\\N{CJK UNIFIED IDEOGRAPH-6807}) missing from font(s) DejaVu Sans.\n",
      "  fig.canvas.print_figure(bytes_io, **kw)\n",
      "/opt/anaconda3/envs/ccfd/lib/python3.9/site-packages/IPython/core/pylabtools.py:152: UserWarning: Glyph 35760 (\\N{CJK UNIFIED IDEOGRAPH-8BB0}) missing from font(s) DejaVu Sans.\n",
      "  fig.canvas.print_figure(bytes_io, **kw)\n",
      "/opt/anaconda3/envs/ccfd/lib/python3.9/site-packages/IPython/core/pylabtools.py:152: UserWarning: Glyph 27491 (\\N{CJK UNIFIED IDEOGRAPH-6B63}) missing from font(s) DejaVu Sans.\n",
      "  fig.canvas.print_figure(bytes_io, **kw)\n",
      "/opt/anaconda3/envs/ccfd/lib/python3.9/site-packages/IPython/core/pylabtools.py:152: UserWarning: Glyph 24120 (\\N{CJK UNIFIED IDEOGRAPH-5E38}) missing from font(s) DejaVu Sans.\n",
      "  fig.canvas.print_figure(bytes_io, **kw)\n"
     ]
    },
    {
     "data": {
      "image/png": "[encoded data removed]",
      "text/plain": [
       "<Figure size 1000x600 with 1 Axes>"
      ]
     },
     "metadata": {},
     "output_type": "display_data"
    }
   ],
   "source": [
    "# 交易间隔与欺诈关系\n",
    "plt.figure(figsize=(10, 6))\n",
    "# 限制TimeDelta的范围以便更好地可视化\n",
    "time_delta_max = np.percentile(data['TimeDelta'], 95)  # 95%分位数\n",
    "time_delta_data = data[data['TimeDelta'] <= time_delta_max]\n",
    "\n",
    "sns.boxplot(x='Class', y='TimeDelta', data=time_delta_data)\n",
    "plt.title('交易间隔与欺诈关系')\n",
    "plt.xlabel('欺诈标记 (0=正常, 1=欺诈)')\n",
    "plt.ylabel('交易间隔 (秒)')\n",
    "plt.show()"
   ]
  },
  {
   "cell_type": "markdown",
   "metadata": {},
   "source": [
    "## 3.2 相关性热图查看特征间关系"
   ]
  },
  {
   "cell_type": "code",
   "execution_count": null,
   "metadata": {},
   "outputs": [],
   "source": [
    "# 排除Class自身\n",
    "corr_with_class = data.corr()['Class'].drop('Class').sort_values(ascending=False)  \n",
    "\n",
    "plt.figure(figsize=(8, 10))\n",
    "sns.barplot(y=corr_with_class.index, x=corr_with_class.values, palette='coolwarm')\n",
    "plt.title('特征与Class的相关性排序')"
   ]
  },
  {
   "cell_type": "code",
   "execution_count": 22,
   "metadata": {},
   "outputs": [
    {
     "name": "stderr",
     "output_type": "stream",
     "text": [
      "/var/folders/yw/n5fj9fwn7xx7d6pz1kx9r_lc0000gn/T/ipykernel_2145/3666882634.py:9: FutureWarning: \n",
      "\n",
      "Passing `palette` without assigning `hue` is deprecated and will be removed in v0.14.0. Assign the `y` variable to `hue` and set `legend=False` for the same effect.\n",
      "\n",
      "  sns.barplot(y=time_corr.index, x=time_corr.values, palette='coolwarm')\n",
      "/var/folders/yw/n5fj9fwn7xx7d6pz1kx9r_lc0000gn/T/ipykernel_2145/3666882634.py:12: UserWarning: Glyph 26102 (\\N{CJK UNIFIED IDEOGRAPH-65F6}) missing from font(s) DejaVu Sans.\n",
      "  plt.tight_layout()\n",
      "/var/folders/yw/n5fj9fwn7xx7d6pz1kx9r_lc0000gn/T/ipykernel_2145/3666882634.py:12: UserWarning: Glyph 38388 (\\N{CJK UNIFIED IDEOGRAPH-95F4}) missing from font(s) DejaVu Sans.\n",
      "  plt.tight_layout()\n",
      "/var/folders/yw/n5fj9fwn7xx7d6pz1kx9r_lc0000gn/T/ipykernel_2145/3666882634.py:12: UserWarning: Glyph 29305 (\\N{CJK UNIFIED IDEOGRAPH-7279}) missing from font(s) DejaVu Sans.\n",
      "  plt.tight_layout()\n",
      "/var/folders/yw/n5fj9fwn7xx7d6pz1kx9r_lc0000gn/T/ipykernel_2145/3666882634.py:12: UserWarning: Glyph 24449 (\\N{CJK UNIFIED IDEOGRAPH-5F81}) missing from font(s) DejaVu Sans.\n",
      "  plt.tight_layout()\n",
      "/var/folders/yw/n5fj9fwn7xx7d6pz1kx9r_lc0000gn/T/ipykernel_2145/3666882634.py:12: UserWarning: Glyph 19982 (\\N{CJK UNIFIED IDEOGRAPH-4E0E}) missing from font(s) DejaVu Sans.\n",
      "  plt.tight_layout()\n",
      "/var/folders/yw/n5fj9fwn7xx7d6pz1kx9r_lc0000gn/T/ipykernel_2145/3666882634.py:12: UserWarning: Glyph 27450 (\\N{CJK UNIFIED IDEOGRAPH-6B3A}) missing from font(s) DejaVu Sans.\n",
      "  plt.tight_layout()\n",
      "/var/folders/yw/n5fj9fwn7xx7d6pz1kx9r_lc0000gn/T/ipykernel_2145/3666882634.py:12: UserWarning: Glyph 35784 (\\N{CJK UNIFIED IDEOGRAPH-8BC8}) missing from font(s) DejaVu Sans.\n",
      "  plt.tight_layout()\n",
      "/var/folders/yw/n5fj9fwn7xx7d6pz1kx9r_lc0000gn/T/ipykernel_2145/3666882634.py:12: UserWarning: Glyph 30340 (\\N{CJK UNIFIED IDEOGRAPH-7684}) missing from font(s) DejaVu Sans.\n",
      "  plt.tight_layout()\n",
      "/var/folders/yw/n5fj9fwn7xx7d6pz1kx9r_lc0000gn/T/ipykernel_2145/3666882634.py:12: UserWarning: Glyph 30456 (\\N{CJK UNIFIED IDEOGRAPH-76F8}) missing from font(s) DejaVu Sans.\n",
      "  plt.tight_layout()\n",
      "/var/folders/yw/n5fj9fwn7xx7d6pz1kx9r_lc0000gn/T/ipykernel_2145/3666882634.py:12: UserWarning: Glyph 20851 (\\N{CJK UNIFIED IDEOGRAPH-5173}) missing from font(s) DejaVu Sans.\n",
      "  plt.tight_layout()\n",
      "/var/folders/yw/n5fj9fwn7xx7d6pz1kx9r_lc0000gn/T/ipykernel_2145/3666882634.py:12: UserWarning: Glyph 24615 (\\N{CJK UNIFIED IDEOGRAPH-6027}) missing from font(s) DejaVu Sans.\n",
      "  plt.tight_layout()\n",
      "/opt/anaconda3/envs/ccfd/lib/python3.9/site-packages/IPython/core/pylabtools.py:152: UserWarning: Glyph 26102 (\\N{CJK UNIFIED IDEOGRAPH-65F6}) missing from font(s) DejaVu Sans.\n",
      "  fig.canvas.print_figure(bytes_io, **kw)\n",
      "/opt/anaconda3/envs/ccfd/lib/python3.9/site-packages/IPython/core/pylabtools.py:152: UserWarning: Glyph 38388 (\\N{CJK UNIFIED IDEOGRAPH-95F4}) missing from font(s) DejaVu Sans.\n",
      "  fig.canvas.print_figure(bytes_io, **kw)\n",
      "/opt/anaconda3/envs/ccfd/lib/python3.9/site-packages/IPython/core/pylabtools.py:152: UserWarning: Glyph 29305 (\\N{CJK UNIFIED IDEOGRAPH-7279}) missing from font(s) DejaVu Sans.\n",
      "  fig.canvas.print_figure(bytes_io, **kw)\n",
      "/opt/anaconda3/envs/ccfd/lib/python3.9/site-packages/IPython/core/pylabtools.py:152: UserWarning: Glyph 24449 (\\N{CJK UNIFIED IDEOGRAPH-5F81}) missing from font(s) DejaVu Sans.\n",
      "  fig.canvas.print_figure(bytes_io, **kw)\n",
      "/opt/anaconda3/envs/ccfd/lib/python3.9/site-packages/IPython/core/pylabtools.py:152: UserWarning: Glyph 19982 (\\N{CJK UNIFIED IDEOGRAPH-4E0E}) missing from font(s) DejaVu Sans.\n",
      "  fig.canvas.print_figure(bytes_io, **kw)\n",
      "/opt/anaconda3/envs/ccfd/lib/python3.9/site-packages/IPython/core/pylabtools.py:152: UserWarning: Glyph 27450 (\\N{CJK UNIFIED IDEOGRAPH-6B3A}) missing from font(s) DejaVu Sans.\n",
      "  fig.canvas.print_figure(bytes_io, **kw)\n",
      "/opt/anaconda3/envs/ccfd/lib/python3.9/site-packages/IPython/core/pylabtools.py:152: UserWarning: Glyph 35784 (\\N{CJK UNIFIED IDEOGRAPH-8BC8}) missing from font(s) DejaVu Sans.\n",
      "  fig.canvas.print_figure(bytes_io, **kw)\n",
      "/opt/anaconda3/envs/ccfd/lib/python3.9/site-packages/IPython/core/pylabtools.py:152: UserWarning: Glyph 30340 (\\N{CJK UNIFIED IDEOGRAPH-7684}) missing from font(s) DejaVu Sans.\n",
      "  fig.canvas.print_figure(bytes_io, **kw)\n",
      "/opt/anaconda3/envs/ccfd/lib/python3.9/site-packages/IPython/core/pylabtools.py:152: UserWarning: Glyph 30456 (\\N{CJK UNIFIED IDEOGRAPH-76F8}) missing from font(s) DejaVu Sans.\n",
      "  fig.canvas.print_figure(bytes_io, **kw)\n",
      "/opt/anaconda3/envs/ccfd/lib/python3.9/site-packages/IPython/core/pylabtools.py:152: UserWarning: Glyph 20851 (\\N{CJK UNIFIED IDEOGRAPH-5173}) missing from font(s) DejaVu Sans.\n",
      "  fig.canvas.print_figure(bytes_io, **kw)\n",
      "/opt/anaconda3/envs/ccfd/lib/python3.9/site-packages/IPython/core/pylabtools.py:152: UserWarning: Glyph 24615 (\\N{CJK UNIFIED IDEOGRAPH-6027}) missing from font(s) DejaVu Sans.\n",
      "  fig.canvas.print_figure(bytes_io, **kw)\n"
     ]
    },
    {
     "data": {
      "image/png": "[encoded data removed]",
      "text/plain": [
       "<Figure size 1000x600 with 1 Axes>"
      ]
     },
     "metadata": {},
     "output_type": "display_data"
    }
   ],
   "source": [
    "# 时间特征与欺诈的相关性分析\n",
    "time_features = ['Time', 'Hour', 'Hour_sin', 'Hour_cos', 'DayOfWeek', \n",
    "                'IsWeekend', 'TimeDelta']\n",
    "time_features = [f for f in time_features if f in corr_with_class.index]\n",
    "time_corr = corr_with_class[time_features]\n",
    "\n",
    "# 可视化时间特征相关性\n",
    "plt.figure(figsize=(10, 6))\n",
    "sns.barplot(y=time_corr.index, x=time_corr.values, palette='coolwarm')\n",
    "plt.title('时间特征与欺诈的相关性')\n",
    "plt.axvline(x=0, color='black', linestyle='-', alpha=0.3)\n",
    "plt.tight_layout()\n",
    "plt.show()"
   ]
  },
  {
   "cell_type": "code",
   "execution_count": 19,
   "metadata": {},
   "outputs": [
    {
     "name": "stdout",
     "output_type": "stream",
     "text": [
      "\n",
      "时间特征与欺诈的相关性排名:\n",
      "- Time: 相关性 = -0.012323, 总体排名: 22/35\n",
      "- Hour: 相关性 = -0.017109, 总体排名: 23/35\n",
      "- Hour_sin: 相关性 = 0.012012, 总体排名: 10/35\n",
      "- Hour_cos: 相关性 = 0.007313, 总体排名: 12/35\n"
     ]
    }
   ],
   "source": [
    "# 输出时间特征相关性分析结论\n",
    "print(\"\\n时间特征与欺诈的相关性排名:\")\n",
    "for feature in time_features:\n",
    "    corr = round(corr_with_class[feature], 6)\n",
    "    rank = list(corr_with_class.index).index(feature) + 1\n",
    "    print(f\"- {feature}: 相关性 = {corr}, 总体排名: {rank}/{len(corr_with_class)}\")"
   ]
  },
  {
   "cell_type": "code",
   "execution_count": null,
   "metadata": {},
   "outputs": [
    {
     "name": "stdout",
     "output_type": "stream",
     "text": [
      "检查Time特征相关性问题:\n",
      "time_features 内容: ['Time', 'Hour', 'Hour_sin', 'Hour_cos']\n",
      "'Time' 是否在 time_features 中: True\n",
      "\n",
      "time_corr 内容:\n",
      "Time       -0.012323\n",
      "Hour       -0.017109\n",
      "Hour_sin    0.012012\n",
      "Hour_cos    0.007313\n",
      "Name: Class, dtype: float64\n",
      "\n",
      "Time相关性绝对值: 0.012322570929245588\n",
      "最小相关性绝对值: 0.007313475919215659\n",
      "Time是否有最小相关性: False\n",
      "\n",
      "计算时间特征与欺诈的相关性:\n",
      "找到的时间特征: ['Time', 'Hour', 'Hour_sin', 'Hour_cos', 'TimeDelta']\n",
      "\n",
      "相关性计算结果:\n",
      "Time        -0.012323\n",
      "Hour        -0.017109\n",
      "Hour_sin     0.012012\n",
      "Hour_cos     0.007313\n",
      "TimeDelta    0.018662\n",
      "Name: Class, dtype: float64\n",
      "\n",
      "各特征相关性绝对值:\n",
      "Time         0.012323\n",
      "Hour         0.017109\n",
      "Hour_sin     0.012012\n",
      "Hour_cos     0.007313\n",
      "TimeDelta    0.018662\n",
      "Name: Class, dtype: float64\n",
      "\n",
      "相关性最低特征: Hour_cos (0.007313)\n",
      "相关性最高特征: TimeDelta (0.018662)\n",
      "\n",
      "结论: Hour_cos特征的相关性最低\n",
      "      但Time特征相关性也很低 (0.012323)，可考虑移除\n"
     ]
    }
   ],
   "source": [
    "print(\"检查Time特征相关性问题:\")\n",
    "print(\"time_features 内容:\", time_features)\n",
    "\n",
    "if 'time_corr' in locals():\n",
    "    print(\"\\ntime_corr 内容:\")\n",
    "    print(time_corr)\n",
    "    \n",
    "    if 'Time' in time_corr.index:\n",
    "        time_corr_abs = time_corr.abs()\n",
    "        print(\"\\nTime相关性绝对值:\", time_corr_abs['Time'])\n",
    "        print(\"最小相关性绝对值:\", time_corr_abs.min())\n",
    "        print(\"Time是否有最小相关性:\", time_corr_abs['Time'] == time_corr_abs.min())\n",
    "else:\n",
    "    print(\"\\ntime_corr变量未定义\")\n",
    "\n",
    "print(\"\\n计算时间特征与欺诈的相关性:\")\n",
    "time_features = ['Time', 'Hour', 'Hour_sin', 'Hour_cos', 'TimeDelta']\n",
    "time_features = [f for f in time_features if f in data.columns]\n",
    "print(\"找到的时间特征:\", time_features)\n",
    "\n",
    "# 计算相关性\n",
    "time_corr = data[time_features + ['Class']].corr()['Class'].drop('Class')\n",
    "print(\"\\n相关性计算结果:\")\n",
    "print(time_corr)\n",
    "\n",
    "# 判断是否值得保留原始Time特征\n",
    "if 'Time' in time_features:\n",
    "    time_corr_abs = time_corr.abs()\n",
    "    print(\"\\n各特征相关性绝对值:\")\n",
    "    print(time_corr_abs)\n",
    "    \n",
    "    min_corr_feature = time_corr_abs.idxmin()\n",
    "    max_corr_feature = time_corr_abs.idxmax()\n",
    "    \n",
    "    print(f\"\\n相关性最低特征: {min_corr_feature} ({time_corr_abs[min_corr_feature]:.6f})\")\n",
    "    print(f\"相关性最高特征: {max_corr_feature} ({time_corr_abs[max_corr_feature]:.6f})\")\n",
    "    \n",
    "    if min_corr_feature == 'Time':\n",
    "        print(\"\\n结论: 原始Time特征与欺诈的相关性最低，建议在建模时考虑移除\")\n",
    "        print(f\"      新创建的时间特征提供了更多信息，尤其是 {max_corr_feature}\")\n",
    "    else:\n",
    "        print(f\"\\n结论: {min_corr_feature}特征的相关性最低\")\n",
    "        \n",
    "        if time_corr_abs['Time'] < 0.05:  # 阈值判断，相关性绝对值小于0.05\n",
    "            print(f\"      但Time特征相关性也很低 ({time_corr_abs['Time']:.6f})，可考虑移除\")"
   ]
  },
  {
   "cell_type": "markdown",
   "metadata": {},
   "source": [
    "# 4 特征工程"
   ]
  },
  {
   "cell_type": "markdown",
   "metadata": {},
   "source": [
    "## 4.1 特征处理与缩放"
   ]
  },
  {
   "cell_type": "code",
   "execution_count": 7,
   "metadata": {},
   "outputs": [
    {
     "name": "stdout",
     "output_type": "stream",
     "text": [
      "检测到的分类特征: []\n",
      "未检测到分类特征\n"
     ]
    }
   ],
   "source": [
    "# 移除Time\n",
    "data = data.drop('Time', axis=1)\n",
    "\n",
    "# 检查并转换分类特征\n",
    "# 保存分类特征列名\n",
    "categorical_cols = []\n",
    "for col in data.columns:\n",
    "    if data[col].dtype == 'object' or data[col].dtype.name == 'category':\n",
    "        categorical_cols.append(col)\n",
    "\n",
    "print(f\"检测到的分类特征: {categorical_cols}\")\n",
    "\n",
    "# 对分类特征进行独热编码\n",
    "if categorical_cols:\n",
    "    # 保存Class列\n",
    "    if 'Class' in data.columns:\n",
    "        y = data['Class'].copy()\n",
    "        X = data.drop('Class', axis=1)\n",
    "    else:\n",
    "        X = data.copy()\n",
    "        y = None\n",
    "    \n",
    "    # 对TimePeriod等分类特征进行独热编码\n",
    "    if 'TimePeriod' in X.columns:\n",
    "        print(\"对TimePeriod特征进行独热编码\")\n",
    "        X = pd.get_dummies(X, columns=['TimePeriod'], prefix='TimePeriod')\n",
    "    \n",
    "    # 如果有其他分类特征，也进行编码\n",
    "    other_cat_cols = [col for col in categorical_cols if col != 'TimePeriod' and col in X.columns]\n",
    "    if other_cat_cols:\n",
    "        print(f\"对其他分类特征进行独热编码: {other_cat_cols}\")\n",
    "        X = pd.get_dummies(X, columns=other_cat_cols)\n",
    "    \n",
    "    # 如果存在, 重新合并Class列\n",
    "    if y is not None:\n",
    "        X['Class'] = y\n",
    "        data = X\n",
    "    else:\n",
    "        data = X\n",
    "else:\n",
    "    print(\"未检测到分类特征\")"
   ]
  },
  {
   "cell_type": "code",
   "execution_count": null,
   "metadata": {},
   "outputs": [
    {
     "name": "stdout",
     "output_type": "stream",
     "text": [
      "对Amount特征进行标准化\n",
      "对所有数值特征进行归一化\n",
      "特征处理后数据维度: (284807, 30)\n",
      "特征列表: ['V1', 'V2', 'V3', 'V4', 'V5', 'V6', 'V7', 'V8', 'V9', 'V10', 'V11', 'V12', 'V13', 'V14', 'V15', 'V16', 'V17', 'V18', 'V19', 'V20', 'V21', 'V22', 'V23', 'V24', 'V25', 'V26', 'V27', 'V28', 'Amount', 'Class']\n"
     ]
    }
   ],
   "source": [
    "# 对 Amount 特征进行标准化\n",
    "from sklearn.preprocessing import StandardScaler\n",
    "\n",
    "if 'Amount' in data.columns:\n",
    "    print(\"对Amount特征进行标准化\")\n",
    "    scaler = StandardScaler()\n",
    "    data['Amount'] = scaler.fit_transform(data[['Amount']])\n",
    "\n",
    "# 分离特征和目标变量\n",
    "if 'Class' in data.columns:\n",
    "    X = data.drop('Class', axis=1)\n",
    "    y = data['Class']\n",
    "else:\n",
    "    X = data.copy()\n",
    "    y = None"
   ]
  },
  {
   "cell_type": "markdown",
   "metadata": {},
   "source": [
    "## 4.2 时间序列数据分割"
   ]
  },
  {
   "cell_type": "code",
   "execution_count": 9,
   "metadata": {},
   "outputs": [
    {
     "name": "stdout",
     "output_type": "stream",
     "text": [
      "数据已分割为训练集和测试集\n",
      "训练集形状: (227845, 29), 测试集形状: (56962, 29)\n",
      "训练集类别分布:\n",
      "Class\n",
      "0    0.998271\n",
      "1    0.001729\n",
      "Name: proportion, dtype: float64\n",
      "\n",
      "测试集类别分布:\n",
      "Class\n",
      "0    0.99828\n",
      "1    0.00172\n",
      "Name: proportion, dtype: float64\n"
     ]
    }
   ],
   "source": [
    "X = data.drop('Class', axis=1)\n",
    "y = data['Class']\n",
    "\n",
    "# 使用分层抽样确保训练集和测试集有相似的类别分布\n",
    "X_train, X_test, y_train, y_test = train_test_split(\n",
    "    X, y, test_size=0.2, random_state=42, stratify=y\n",
    ")\n",
    "\n",
    "print(\"数据已分割为训练集和测试集\")\n",
    "print(f\"训练集形状: {X_train.shape}, 测试集形状: {X_test.shape}\")\n",
    "print(\"训练集类别分布:\")\n",
    "print(y_train.value_counts(normalize=True))\n",
    "print(\"\\n测试集类别分布:\")\n",
    "print(y_test.value_counts(normalize=True))"
   ]
  },
  {
   "cell_type": "markdown",
   "metadata": {},
   "source": [
    "## 4.3 特征选择"
   ]
  },
  {
   "cell_type": "code",
   "execution_count": 10,
   "metadata": {},
   "outputs": [
    {
     "name": "stdout",
     "output_type": "stream",
     "text": [
      "执行L1正则化特征选择...\n",
      "特征选择前: 29个特征\n",
      "特征选择后: 15个特征\n",
      "最终选择特征：['V4', 'V5', 'V8', 'V9', 'V10', 'V13', 'V14', 'V15', 'V16', 'V17', 'V20', 'V21', 'V22', 'V23', 'V27']\n",
      "最终选择特征：['V4', 'V5', 'V8', 'V9', 'V10', 'V13', 'V14', 'V15', 'V16', 'V17', 'V20', 'V21', 'V22', 'V23', 'V27']\n"
     ]
    }
   ],
   "source": [
    "from sklearn.linear_model import LogisticRegression\n",
    "from sklearn.feature_selection import SelectFromModel\n",
    "\n",
    "print(\"执行L1正则化特征选择...\")\n",
    "# 确认Time已被移除\n",
    "if 'Time' in X_train.columns:\n",
    "    print(\"警告: Time特征仍存在，将被移除\")\n",
    "    X_train = X_train.drop('Time', axis=1)\n",
    "    X_test = X_test.drop('Time', axis=1)\n",
    "\n",
    "# 使用L1正则化进行特征选择    \n",
    "selector = SelectFromModel(\n",
    "    LogisticRegression(penalty='l1', solver='liblinear', random_state=42, C=0.1),\n",
    "    threshold='median'\n",
    ").fit(X_train, y_train)\n",
    "\n",
    "# 获取所选特征\n",
    "selected_features = X_train.columns[selector.get_support()].tolist()\n",
    "\n",
    "# 更新数据集\n",
    "X_train_selected = X_train[selected_features]\n",
    "X_test_selected = X_test[selected_features]\n",
    "\n",
    "print(f\"特征选择前: {X_train.shape[1]}个特征\")\n",
    "print(f\"特征选择后: {len(selected_features)}个特征\")\n",
    "print(f\"最终选择特征：{selected_features}\")\n",
    "\n",
    "# 更新训练集和测试集\n",
    "X_train = X_train_selected\n",
    "X_test = X_test_selected\n",
    "print(f\"最终选择特征：{selected_features}\")"
   ]
  },
  {
   "cell_type": "markdown",
   "metadata": {},
   "source": [
    "## 4.4 处理不平衡数据"
   ]
  },
  {
   "cell_type": "code",
   "execution_count": 11,
   "metadata": {},
   "outputs": [
    {
     "name": "stdout",
     "output_type": "stream",
     "text": [
      "Class\n",
      "0    284315\n",
      "1       492\n",
      "Name: count, dtype: int64\n",
      "Class\n",
      "0    0.998273\n",
      "1    0.001727\n",
      "Name: proportion, dtype: float64\n"
     ]
    }
   ],
   "source": [
    "# 查看类别分布\n",
    "class_counts = data['Class'].value_counts()\n",
    "print(class_counts)\n",
    "\n",
    "# 查看比例\n",
    "class_ratios = data['Class'].value_counts(normalize=True)\n",
    "print(class_ratios)"
   ]
  },
  {
   "cell_type": "code",
   "execution_count": 12,
   "metadata": {},
   "outputs": [
    {
     "name": "stderr",
     "output_type": "stream",
     "text": [
      "/opt/anaconda3/envs/ccfd/lib/python3.9/site-packages/sklearn/base.py:474: FutureWarning: `BaseEstimator._validate_data` is deprecated in 1.6 and will be removed in 1.7. Use `sklearn.utils.validation.validate_data` instead. This function becomes public and is part of the scikit-learn developer API.\n",
      "  warnings.warn(\n"
     ]
    }
   ],
   "source": [
    "from imblearn.over_sampling import SMOTE\n",
    "\n",
    "smote = SMOTE(random_state=42)\n",
    "X_train_resampled, y_train_resampled = smote.fit_resample(X_train, y_train)\n",
    "\n",
    "# 后续用 X_train_resampled 和 y_train_resampled 替代原训练集\n",
    "train_data = lgb.Dataset(X_train_resampled, label=y_train_resampled)"
   ]
  },
  {
   "cell_type": "code",
   "execution_count": 13,
   "metadata": {},
   "outputs": [],
   "source": [
    "class_weight = len(y_train[y_train==0]) / len(y_train[y_train==1])  # 自动计算权重比"
   ]
  },
  {
   "cell_type": "markdown",
   "metadata": {},
   "source": [
    "# 5 模型训练与评估"
   ]
  },
  {
   "cell_type": "markdown",
   "metadata": {},
   "source": [
    "## 5.1 模型训练"
   ]
  },
  {
   "cell_type": "markdown",
   "metadata": {},
   "source": [
    "### 5.1.1 设置超参数"
   ]
  },
  {
   "cell_type": "code",
   "execution_count": 18,
   "metadata": {},
   "outputs": [],
   "source": [
    "import lightgbm as lgb\n",
    "\n",
    "# 创建 LightGBM 数据集\n",
    "train_data = lgb.Dataset(X_train, label=y_train)\n",
    "test_data = lgb.Dataset(X_test, label=y_test)\n",
    "\n",
    "# 设置参数\n",
    "params = {\n",
    "    'objective': 'binary',  # 二分类任务\n",
    "    'metric': 'binary_logloss', # 评价指标\n",
    "    'boosting_type': 'dart',  # 更适合时间序列\n",
    "    \n",
    "    'learning_rate': 0.05, # 学习率\n",
    "    'num_leaves': 31, # 最大叶子节点数\n",
    "    'max_depth': 6,    # 树的最大深度，防止过拟合\n",
    "    \n",
    "    'feature_fraction': 0.8,  # 每次迭代使用的特征比例，防止过拟合\n",
    "    'bagging_fraction': 0.8,  # 每次迭代使用的数据比例，防止过拟合\n",
    "    'bagging_freq': 5,  # 每 5 次迭代进行一次 bagging\n",
    "    \n",
    "    'lambda_l1': 0.1,  # L1 正则化\n",
    "    'lambda_l2': 0.2,  # L2 正则化\n",
    "    \n",
    "    'min_data_in_leaf': 20,  # 每个叶子节点的最小样本数，防止过拟合\n",
    "    'min_child_weight': 0.02, # 使一个结点分裂的最小海森值之和\n",
    "    'max_bin': 255,  # 特征分箱的最大数量，较大的值可以提高精度但会增加计算量\n",
    "    'verbosity': -1,  # 关闭训练过程中的日志输出\n",
    "    \n",
    "    'scale_pos_weight': class_weight,  # 已有的类别权重设置\n",
    "    'focal_loss': True,  # 使用focal loss处理不平衡\n",
    "    'focal_alpha': 0.25,  # focal loss的alpha参数\n",
    "    'focal_gamma': 2.0,   # focal loss的gamma参数\n",
    "}"
   ]
  },
  {
   "cell_type": "markdown",
   "metadata": {},
   "source": [
    "### 5.1.2 定义AUPRC评估函数"
   ]
  },
  {
   "cell_type": "code",
   "execution_count": 19,
   "metadata": {},
   "outputs": [],
   "source": [
    "from sklearn.metrics import average_precision_score\n",
    "\n",
    "# 自定义 AUPRC 评估函数\n",
    "def auprc_eval(preds, train_data):\n",
    "    labels = train_data.get_label()  # 获取真实标签\n",
    "    score = average_precision_score(labels, preds)  # 计算 AUPRC\n",
    "    return 'auprc', score, True  # 返回指标名称、值和是否越高越好"
   ]
  },
  {
   "cell_type": "code",
   "execution_count": 20,
   "metadata": {},
   "outputs": [],
   "source": [
    "from sklearn.metrics import average_precision_score\n",
    "\n",
    "def calculate_auprc(model, X_val, y_val):\n",
    "    \"\"\"\n",
    "    计算验证集上的 AUPRC (Average Precision Score)\n",
    "    \"\"\"\n",
    "    # 使用模型预测概率\n",
    "    y_pred = model.predict(X_val)\n",
    "    # 计算 AUPRC\n",
    "    return average_precision_score(y_val, y_pred)"
   ]
  },
  {
   "cell_type": "markdown",
   "metadata": {},
   "source": [
    "### 5.1.3 训练模型"
   ]
  },
  {
   "cell_type": "code",
   "execution_count": 21,
   "metadata": {},
   "outputs": [
    {
     "name": "stderr",
     "output_type": "stream",
     "text": [
      "/opt/anaconda3/envs/ccfd/lib/python3.9/site-packages/lightgbm/callback.py:333: UserWarning: Early stopping is not available in dart mode\n",
      "  _log_warning(\"Early stopping is not available in dart mode\")\n"
     ]
    },
    {
     "name": "stdout",
     "output_type": "stream",
     "text": [
      "Fold 1 AUPRC: 0.5060220360757154\n"
     ]
    },
    {
     "name": "stderr",
     "output_type": "stream",
     "text": [
      "/opt/anaconda3/envs/ccfd/lib/python3.9/site-packages/lightgbm/callback.py:333: UserWarning: Early stopping is not available in dart mode\n",
      "  _log_warning(\"Early stopping is not available in dart mode\")\n"
     ]
    },
    {
     "name": "stdout",
     "output_type": "stream",
     "text": [
      "Fold 2 AUPRC: 0.5023086363147561\n"
     ]
    },
    {
     "name": "stderr",
     "output_type": "stream",
     "text": [
      "/opt/anaconda3/envs/ccfd/lib/python3.9/site-packages/lightgbm/callback.py:333: UserWarning: Early stopping is not available in dart mode\n",
      "  _log_warning(\"Early stopping is not available in dart mode\")\n"
     ]
    },
    {
     "name": "stdout",
     "output_type": "stream",
     "text": [
      "Fold 3 AUPRC: 0.5122183825202954\n"
     ]
    },
    {
     "name": "stderr",
     "output_type": "stream",
     "text": [
      "/opt/anaconda3/envs/ccfd/lib/python3.9/site-packages/lightgbm/callback.py:333: UserWarning: Early stopping is not available in dart mode\n",
      "  _log_warning(\"Early stopping is not available in dart mode\")\n"
     ]
    },
    {
     "name": "stdout",
     "output_type": "stream",
     "text": [
      "Fold 4 AUPRC: 0.6460256064231232\n"
     ]
    },
    {
     "name": "stderr",
     "output_type": "stream",
     "text": [
      "/opt/anaconda3/envs/ccfd/lib/python3.9/site-packages/lightgbm/callback.py:333: UserWarning: Early stopping is not available in dart mode\n",
      "  _log_warning(\"Early stopping is not available in dart mode\")\n"
     ]
    },
    {
     "name": "stdout",
     "output_type": "stream",
     "text": [
      "Fold 5 AUPRC: 0.6600410611122032\n"
     ]
    }
   ],
   "source": [
    "# 训练模型\n",
    "from lightgbm import early_stopping\n",
    "from sklearn.model_selection import TimeSeriesSplit\n",
    "tscv = TimeSeriesSplit(n_splits=5)\n",
    "\n",
    "for fold, (train_idx, val_idx) in enumerate(tscv.split(X_train)):\n",
    "    X_tr, X_val = X_train.iloc[train_idx], X_train.iloc[val_idx]\n",
    "    y_tr, y_val = y_train.iloc[train_idx], y_train.iloc[val_idx]\n",
    "    \n",
    "    model = lgb.train(\n",
    "        params,\n",
    "        train_data,\n",
    "        valid_sets=[train_data, test_data],\n",
    "        valid_names=['train', 'valid'],\n",
    "        num_boost_round=500,\n",
    "        callbacks=[early_stopping(stopping_rounds=50)],\n",
    "        feval=auprc_eval  # 使用自定义 AUPRC 评估函数\n",
    "    )\n",
    "    print(f\"Fold {fold+1} AUPRC:\", calculate_auprc(model, X_val, y_val))"
   ]
  },
  {
   "cell_type": "markdown",
   "metadata": {},
   "source": [
    "### 5.1.4 对测试集进行预测"
   ]
  },
  {
   "cell_type": "code",
   "execution_count": 22,
   "metadata": {},
   "outputs": [],
   "source": [
    "# 使用模型对测试集进行预测\n",
    "y_pred = model.predict(X_test)"
   ]
  },
  {
   "cell_type": "markdown",
   "metadata": {},
   "source": [
    "## 5.2 模型评估"
   ]
  },
  {
   "cell_type": "markdown",
   "metadata": {},
   "source": [
    "### 5.2.1 对预测结果进行评估"
   ]
  },
  {
   "cell_type": "code",
   "execution_count": 23,
   "metadata": {},
   "outputs": [
    {
     "name": "stdout",
     "output_type": "stream",
     "text": [
      "Test AUPRC: 0.6200779668831274\n"
     ]
    }
   ],
   "source": [
    "from sklearn.metrics import precision_recall_curve, auc\n",
    "\n",
    "# 计算 Precision-Recall 曲线\n",
    "precision, recall, _ = precision_recall_curve(y_test, y_pred)\n",
    "\n",
    "# 计算 AUPRC\n",
    "auprc = auc(recall, precision)\n",
    "print(\"Test AUPRC:\", auprc)"
   ]
  },
  {
   "cell_type": "markdown",
   "metadata": {},
   "source": [
    "### 5.2.2 检查 Precision-Recall曲线"
   ]
  },
  {
   "cell_type": "code",
   "execution_count": 24,
   "metadata": {},
   "outputs": [
    {
     "data": {
      "image/png": "[encoded data removed]",
      "text/plain": [
       "<Figure size 800x600 with 1 Axes>"
      ]
     },
     "metadata": {},
     "output_type": "display_data"
    }
   ],
   "source": [
    "plt.figure(figsize=(8, 6))\n",
    "plt.plot(recall, precision, label=f\"AUPRC = {auprc:.3f}\", linewidth=2)\n",
    "plt.xlabel(\"Recall\", fontsize=12)\n",
    "plt.ylabel(\"Precision\", fontsize=12)\n",
    "plt.title(\"Precision-Recall Curve\", fontsize=14)\n",
    "plt.legend(fontsize=12)\n",
    "plt.grid(True, linestyle='--', alpha=0.7)\n",
    "plt.show()"
   ]
  },
  {
   "cell_type": "markdown",
   "metadata": {},
   "source": [
    "## 5.3 超参数调优"
   ]
  },
  {
   "cell_type": "markdown",
   "metadata": {},
   "source": [
    "### 5.3.1 参数空间定义"
   ]
  },
  {
   "cell_type": "code",
   "execution_count": null,
   "metadata": {},
   "outputs": [],
   "source": [
    "from sklearn.model_selection import TimeSeriesSplit\n",
    "import numpy as np\n",
    "from sklearn.metrics import average_precision_score\n",
    "\n",
    "# 需要调优的参数\n",
    "param_grid = {\n",
    "    'learning_rate': [0.01, 0.05, 0.1],\n",
    "    'num_leaves': [15, 31, 63],\n",
    "    'max_depth': [4, 6, 8, -1],  # -1表示无限制\n",
    "    'min_child_weight': [0.01, 0.02, 0.05],\n",
    "    'min_child_samples': [10, 20, 30],\n",
    "    'subsample': [0.7, 0.8, 0.9],\n",
    "    'colsample_bytree': [0.7, 0.8, 0.9],\n",
    "    'reg_alpha': [0, 0.1, 0.5],\n",
    "    'reg_lambda': [0, 0.1, 0.5],\n",
    "    'cat_smooth': [1, 10, 20],\n",
    "    'cat_l2': [1, 10],\n",
    "    'is_unbalance': [True]\n",
    "}\n",
    "\n",
    "print(\"参数搜索空间:\")\n",
    "for param, values in param_grid.items():\n",
    "    print(f\"  {param}: {values}\")"
   ]
  },
  {
   "cell_type": "markdown",
   "metadata": {},
   "source": [
    "### 5.3.2 交叉验证设置"
   ]
  },
  {
   "cell_type": "code",
   "execution_count": null,
   "metadata": {},
   "outputs": [],
   "source": [
    "# 时间序列交叉验证\n",
    "tscv = TimeSeriesSplit(n_splits=3)\n",
    "\n",
    "# 可视化交叉验证拆分\n",
    "import matplotlib.pyplot as plt\n",
    "\n",
    "fig, ax = plt.subplots(figsize=(10, 5))\n",
    "for i, (train_idx, val_idx) in enumerate(tscv.split(X_train)):\n",
    "    train_mask = np.zeros(len(X_train), dtype=bool)\n",
    "    val_mask = np.zeros(len(X_train), dtype=bool)\n",
    "    train_mask[train_idx] = True\n",
    "    val_mask[val_idx] = True\n",
    "    \n",
    "    ax.scatter(range(len(X_train)), train_mask * (i + 1), label=f'训练集 {i+1}', alpha=0.5)\n",
    "    ax.scatter(range(len(X_train)), val_mask * (i + 1), label=f'验证集 {i+1}', marker='x')\n",
    "\n",
    "ax.set_title('时间序列交叉验证拆分')\n",
    "ax.set_xlabel('数据索引')\n",
    "ax.set_yticks([1, 2, 3])\n",
    "ax.set_yticklabels(['折 1', '折 2', '折 3'])\n",
    "ax.legend(loc='upper left')\n",
    "plt.tight_layout()\n",
    "plt.show()\n",
    "\n",
    "# 配置评估指标\n",
    "print(\"使用AUPRC作为评估指标\")"
   ]
  },
  {
   "cell_type": "markdown",
   "metadata": {},
   "source": [
    "### 5.3.3 随机搜索优化"
   ]
  },
  {
   "cell_type": "code",
   "execution_count": null,
   "metadata": {},
   "outputs": [],
   "source": [
    "# 最佳参数和分数初始化\n",
    "best_params = {}\n",
    "best_score = 0\n",
    "\n",
    "# 随机搜索迭代次数\n",
    "n_iterations = 20\n",
    "print(f\"执行{n_iterations}次随机搜索...\")\n",
    "\n",
    "# 随机搜索历史记录\n",
    "search_history = []\n",
    "\n",
    "# 随机搜索\n",
    "for i in range(n_iterations):\n",
    "    print(f\"\\n迭代 {i+1}/{n_iterations}\")\n",
    "    \n",
    "    # 随机选择参数\n",
    "    params_sample = {}\n",
    "    for param, values in param_grid.items():\n",
    "        params_sample[param] = np.random.choice(values)\n",
    "    \n",
    "    # 添加固定参数\n",
    "    params_sample.update({\n",
    "        'objective': 'binary',\n",
    "        'metric': 'auc',\n",
    "        'boosting_type': 'dart',\n",
    "        'time_series': True,\n",
    "        'verbosity': -1,\n",
    "        'scale_pos_weight': class_weight\n",
    "    })\n",
    "    \n",
    "    # 交叉验证\n",
    "    cv_scores = []\n",
    "    for fold, (train_idx, val_idx) in enumerate(tscv.split(X_train)):\n",
    "        X_tr, X_val = X_train.iloc[train_idx], X_train.iloc[val_idx]\n",
    "        y_tr, y_val = y_train.iloc[train_idx], y_train.iloc[val_idx]\n",
    "        \n",
    "        # 创建训练集\n",
    "        train = lgb.Dataset(X_tr, label=y_tr)\n",
    "        \n",
    "        # 训练模型\n",
    "        model = lgb.train(\n",
    "            params_sample,\n",
    "            train,\n",
    "            num_boost_round=100\n",
    "        )\n",
    "        \n",
    "        # 预测验证集\n",
    "        y_pred = model.predict(X_val)\n",
    "        \n",
    "        # 计算AUPRC\n",
    "        auprc = average_precision_score(y_val, y_pred)\n",
    "        cv_scores.append(auprc)\n",
    "        print(f\"  折 {fold+1} AUPRC: {auprc:.4f}\")\n",
    "    \n",
    "    # 计算平均AUPRC\n",
    "    mean_auprc = np.mean(cv_scores)\n",
    "    print(f\"  平均AUPRC: {mean_auprc:.4f}\")\n",
    "    \n",
    "    # 保存搜索历史\n",
    "    search_history.append({\n",
    "        'iteration': i+1,\n",
    "        'params': params_sample.copy(),\n",
    "        'auprc': mean_auprc\n",
    "    })\n",
    "    \n",
    "    # 更新最佳参数\n",
    "    if mean_auprc > best_score:\n",
    "        best_score = mean_auprc\n",
    "        best_params = params_sample.copy()\n",
    "        print(f\"  发现新的最佳AUPRC: {best_score:.4f}\")\n",
    "\n",
    "# 显示搜索历史趋势\n",
    "iterations = [h['iteration'] for h in search_history]\n",
    "scores = [h['auprc'] for h in search_history]\n",
    "\n",
    "plt.figure(figsize=(10, 5))\n",
    "plt.plot(iterations, scores, 'o-', color='blue')\n",
    "plt.axhline(y=best_score, color='red', linestyle='--', \n",
    "            label=f'最佳分数: {best_score:.4f}')\n",
    "plt.title('随机搜索过程中的AUPRC变化')\n",
    "plt.xlabel('迭代次数')\n",
    "plt.ylabel('AUPRC')\n",
    "plt.legend()\n",
    "plt.grid(True)\n",
    "plt.show()\n",
    "\n",
    "print(f\"\\n最终最佳AUPRC: {best_score:.4f}\")\n",
    "print(\"最优参数:\")\n",
    "for param, value in best_params.items():\n",
    "    print(f\"  {param}: {value}\")"
   ]
  },
  {
   "cell_type": "markdown",
   "metadata": {},
   "source": [
    "### 5.3.4 最佳模型评估"
   ]
  },
  {
   "cell_type": "code",
   "execution_count": null,
   "metadata": {},
   "outputs": [],
   "source": [
    "# 使用最佳参数训练最终模型\n",
    "print(\"使用最佳参数训练最终模型...\")\n",
    "final_model = lgb.train(\n",
    "    best_params,\n",
    "    train_data,\n",
    "    valid_sets=[test_data],\n",
    "    num_boost_round=300,\n",
    "    early_stopping_rounds=50\n",
    ")\n",
    "\n",
    "# 评估最终模型\n",
    "final_preds = final_model.predict(X_test)\n",
    "final_auprc = average_precision_score(y_test, final_preds)\n",
    "print(f\"最终测试集AUPRC: {final_auprc:.4f}\")\n",
    "\n",
    "# 绘制特征重要性\n",
    "feature_importance = final_model.feature_importance(importance_type='gain')\n",
    "feature_names = list(X_train.columns)\n",
    "\n",
    "importance_df = pd.DataFrame({\n",
    "    'Feature': feature_names,\n",
    "    'Importance': feature_importance\n",
    "})\n",
    "importance_df = importance_df.sort_values('Importance', ascending=False)\n",
    "\n",
    "plt.figure(figsize=(12, 8))\n",
    "plt.barh(importance_df['Feature'][:15], importance_df['Importance'][:15])\n",
    "plt.title('LightGBM 特征重要性 (Top 15)')\n",
    "plt.xlabel('重要性 (Gain)')\n",
    "plt.gca().invert_yaxis()  # 从上到下显示\n",
    "plt.tight_layout()\n",
    "plt.show()\n",
    "\n",
    "# 绘制PR曲线\n",
    "from sklearn.metrics import precision_recall_curve\n",
    "\n",
    "precision, recall, thresholds = precision_recall_curve(y_test, final_preds)\n",
    "avg_precision = average_precision_score(y_test, final_preds)\n",
    "\n",
    "plt.figure(figsize=(10, 6))\n",
    "plt.plot(recall, precision, 'b-', linewidth=2)\n",
    "plt.title(f'精确率-召回率曲线 (AUPRC = {avg_precision:.4f})')\n",
    "plt.xlabel('召回率')\n",
    "plt.ylabel('精确率')\n",
    "plt.grid(True)\n",
    "plt.show()\n",
    "\n",
    "# 保存最佳模型\n",
    "import os\n",
    "os.makedirs('../models', exist_ok=True)\n",
    "final_model.save_model('../models/best_lgb_model.txt')\n",
    "print(\"最佳模型已保存到 ../models/best_lgb_model.txt\")"
   ]
  },
  {
   "cell_type": "code",
   "execution_count": null,
   "metadata": {},
   "outputs": [],
   "source": [
    "import joblib\n",
    "\n",
    "# 保存模型到文件\n",
    "joblib.dump(model, \"lgb_optimized_model1.pkl\")\n",
    "print(\"模型已保存为 lgb_optimized_model1.pkl\")"
   ]
  },
  {
   "cell_type": "markdown",
   "metadata": {},
   "source": [
    "# 6 模型集成与评估"
   ]
  },
  {
   "cell_type": "markdown",
   "metadata": {},
   "source": [
    "## 6.1 基础模型准备"
   ]
  },
  {
   "cell_type": "code",
   "execution_count": null,
   "metadata": {},
   "outputs": [],
   "source": [
    "## 5.4 模型集成提升性能\n",
    "\n",
    "print(\"模型集成技术通常能够提高预测性能，特别是对于不平衡数据集\")\n",
    "\n",
    "# 导入必要的库\n",
    "from sklearn.ensemble import VotingClassifier\n",
    "import xgboost as xgb\n",
    "import lightgbm as lgb\n",
    "import numpy as np\n",
    "import matplotlib.pyplot as plt\n",
    "from sklearn.metrics import average_precision_score, precision_recall_curve\n",
    "\n",
    "# 准备基础模型\n",
    "print(\"\\n1. 准备不同的基础模型\")\n",
    "\n",
    "# 检查训练数据中是否仍有Time特征\n",
    "if 'Time' in X_train.columns:\n",
    "    print(\"警告: Time特征仍存在，将在训练前移除\")\n",
    "    X_train = X_train.drop('Time', axis=1)\n",
    "    X_test = X_test.drop('Time', axis=1)\n",
    "\n",
    "# LightGBM模型 - 使用之前找到的最佳参数\n",
    "print(\"训练LightGBM模型...\")\n",
    "gbm_model = lgb.LGBMClassifier(**{k: v for k, v in best_params.items() \n",
    "                                if k not in ['verbosity', 'metric']})\n",
    "gbm_model.fit(X_train, y_train)\n",
    "y_pred_gbm = gbm_model.predict_proba(X_test)[:, 1]\n",
    "gbm_auprc = average_precision_score(y_test, y_pred_gbm)\n",
    "print(f\"  LightGBM模型 AUPRC: {gbm_auprc:.4f}\")\n",
    "\n",
    "# XGBoost模型\n",
    "print(\"训练XGBoost模型...\")\n",
    "xgb_model = xgb.XGBClassifier(\n",
    "    scale_pos_weight=class_weight,\n",
    "    learning_rate=0.05,\n",
    "    max_depth=6,\n",
    "    min_child_weight=1,\n",
    "    subsample=0.8,\n",
    "    colsample_bytree=0.8,\n",
    "    n_estimators=100,\n",
    "    random_state=42\n",
    ")\n",
    "xgb_model.fit(X_train, y_train)\n",
    "y_pred_xgb = xgb_model.predict_proba(X_test)[:, 1]\n",
    "xgb_auprc = average_precision_score(y_test, y_pred_xgb)\n",
    "print(f\"  XGBoost模型 AUPRC: {xgb_auprc:.4f}\")\n",
    "\n",
    "# 2. 简单加权平均集成\n",
    "print(\"\\n2. 尝试不同权重的加权平均集成\")\n",
    "weights = [(0.1, 0.9), (0.3, 0.7), (0.5, 0.5), (0.7, 0.3), (0.9, 0.1)]\n",
    "weight_results = []\n",
    "\n",
    "for w_gbm, w_xgb in weights:\n",
    "    ensemble_pred = w_gbm * y_pred_gbm + w_xgb * y_pred_xgb\n",
    "    ensemble_auprc = average_precision_score(y_test, ensemble_pred)\n",
    "    weight_results.append((w_gbm, w_xgb, ensemble_auprc))\n",
    "    print(f\"  权重(LightGBM={w_gbm:.1f}, XGBoost={w_xgb:.1f}) AUPRC: {ensemble_auprc:.4f}\")\n",
    "\n",
    "# 找出最佳权重\n",
    "best_weight = max(weight_results, key=lambda x: x[2])\n",
    "print(f\"\\n最佳权重组合: LightGBM={best_weight[0]:.1f}, XGBoost={best_weight[1]:.1f}, AUPRC={best_weight[2]:.4f}\")\n",
    "\n",
    "# 使用最佳权重生成最终集成预测\n",
    "final_ensemble_pred = best_weight[0] * y_pred_gbm + best_weight[1] * y_pred_xgb\n",
    "final_ensemble_auprc = average_precision_score(y_test, final_ensemble_pred)\n",
    "\n",
    "# 3. 可视化结果比较\n",
    "print(\"\\n3. 比较单个模型与集成模型\")\n",
    "model_names = ['LightGBM', 'XGBoost', '集成模型']\n",
    "auprc_scores = [gbm_auprc, xgb_auprc, final_ensemble_auprc]\n",
    "\n",
    "plt.figure(figsize=(10, 6))\n",
    "bars = plt.bar(model_names, auprc_scores, color=['skyblue', 'lightgreen', 'coral'])\n",
    "plt.title('单个模型与集成模型AUPRC比较')\n",
    "plt.ylabel('AUPRC')\n",
    "plt.ylim(0, max(auprc_scores) * 1.1)\n",
    "\n",
    "# 在柱状图上标注具体分数\n",
    "for bar, score in zip(bars, auprc_scores):\n",
    "    plt.text(bar.get_x() + bar.get_width()/2, bar.get_height() + 0.01,\n",
    "             f'{score:.4f}', ha='center', va='bottom')\n",
    "\n",
    "plt.tight_layout()\n",
    "plt.show()\n",
    "\n",
    "# 4. 绘制PR曲线比较\n",
    "plt.figure(figsize=(10, 6))\n",
    "\n",
    "# LightGBM的PR曲线\n",
    "precision_gbm, recall_gbm, _ = precision_recall_curve(y_test, y_pred_gbm)\n",
    "plt.plot(recall_gbm, precision_gbm, 'b-', linewidth=2, label=f'LightGBM (AUPRC={gbm_auprc:.4f})')\n",
    "\n",
    "# XGBoost的PR曲线\n",
    "precision_xgb, recall_xgb, _ = precision_recall_curve(y_test, y_pred_xgb)\n",
    "plt.plot(recall_xgb, precision_xgb, 'g-', linewidth=2, label=f'XGBoost (AUPRC={xgb_auprc:.4f})')\n",
    "\n",
    "# 集成模型的PR曲线\n",
    "precision_ens, recall_ens, _ = precision_recall_curve(y_test, final_ensemble_pred)\n",
    "plt.plot(recall_ens, precision_ens, 'r-', linewidth=2, label=f'集成模型 (AUPRC={final_ensemble_auprc:.4f})')\n",
    "\n",
    "plt.title('各模型精确率-召回率曲线对比')\n",
    "plt.xlabel('召回率')\n",
    "plt.ylabel('精确率')\n",
    "plt.legend(loc='lower left')\n",
    "plt.grid(True)\n",
    "plt.show()\n",
    "\n",
    "# 5. 保存集成模型预测结果\n",
    "import pandas as pd\n",
    "\n",
    "# 创建一个DataFrame存储测试集ID和预测结果\n",
    "results_df = pd.DataFrame({\n",
    "    'ID': X_test.index,  # 假设索引是ID\n",
    "    'Fraud_Probability': final_ensemble_pred\n",
    "})\n",
    "\n",
    "# 保存到CSV文件\n",
    "results_df.to_csv('../outputs/ensemble_predictions.csv', index=False)\n",
    "print(\"\\n集成模型预测结果已保存到 '../outputs/ensemble_predictions.csv'\")\n",
    "\n",
    "# 总结\n",
    "improvement = (final_ensemble_auprc - max(gbm_auprc, xgb_auprc)) / max(gbm_auprc, xgb_auprc) * 100\n",
    "print(f\"\\n集成模型总结:\")\n",
    "print(f\"  单个最佳模型AUPRC: {max(gbm_auprc, xgb_auprc):.4f}\")\n",
    "print(f\"  集成模型AUPRC: {final_ensemble_auprc:.4f}\")\n",
    "print(f\"  性能提升: {improvement:.2f}%\")"
   ]
  },
  {
   "cell_type": "markdown",
   "metadata": {},
   "source": [
    "## 6.2 模型集成"
   ]
  },
  {
   "cell_type": "code",
   "execution_count": null,
   "metadata": {},
   "outputs": [],
   "source": [
    "# 权重优化策略\n",
    "print(\"\\n6.2.1 加权平均集成优化\")\n",
    "weights = [(0.1, 0.9), (0.3, 0.7), (0.5, 0.5), (0.7, 0.3), (0.9, 0.1)]\n",
    "weight_results = []\n",
    "\n",
    "for w_gbm, w_xgb in weights:\n",
    "    ensemble_pred = w_gbm * y_pred_gbm + w_xgb * y_pred_xgb\n",
    "    ensemble_auprc = average_precision_score(y_test, ensemble_pred)\n",
    "    weight_results.append((w_gbm, w_xgb, ensemble_auprc))\n",
    "    print(f\"权重(LightGBM={w_gbm:.1f}, XGBoost={w_xgb:.1f}) AUPRC: {ensemble_auprc:.4f}\")\n",
    "\n",
    "# 找出最佳权重\n",
    "best_weight = max(weight_results, key=lambda x: x[2])\n",
    "print(f\"\\n最佳权重组合: LightGBM={best_weight[0]:.1f}, XGBoost={best_weight[1]:.1f}, AUPRC={best_weight[2]:.4f}\")\n",
    "\n",
    "# 使用最佳权重生成最终集成预测\n",
    "final_ensemble_pred = best_weight[0] * y_pred_gbm + best_weight[1] * y_pred_xgb\n",
    "final_ensemble_auprc = average_precision_score(y_test, final_ensemble_pred)\n",
    "\n",
    "# 绘制权重与性能关系图\n",
    "plt.figure(figsize=(10, 6))\n",
    "lgb_weights = [w[0] for w in weights]\n",
    "ensemble_scores = [w[2] for w in weight_results]\n",
    "plt.plot(lgb_weights, ensemble_scores, 'o-', linewidth=2)\n",
    "plt.axvline(x=best_weight[0], color='r', linestyle='--', \n",
    "            label=f'最佳权重 (LightGBM={best_weight[0]:.1f})')\n",
    "plt.title('LightGBM权重与集成模型AUPRC关系')\n",
    "plt.xlabel('LightGBM权重')\n",
    "plt.ylabel('AUPRC')\n",
    "plt.grid(True)\n",
    "plt.legend()\n",
    "plt.show()"
   ]
  },
  {
   "cell_type": "markdown",
   "metadata": {},
   "source": [
    "## 6.3 模型性能比较"
   ]
  },
  {
   "cell_type": "code",
   "execution_count": null,
   "metadata": {},
   "outputs": [],
   "source": [
    "# 6.3 模型性能比较\n",
    "print(\"\\n比较单个模型与集成模型的性能差异\")\n",
    "\n",
    "# 准备比较数据\n",
    "model_names = ['LightGBM', 'XGBoost', '集成模型']\n",
    "auprc_scores = [gbm_auprc, xgb_auprc, final_ensemble_auprc]\n",
    "\n",
    "# 绘制柱状图比较\n",
    "plt.figure(figsize=(10, 6))\n",
    "bars = plt.bar(model_names, auprc_scores, color=['skyblue', 'lightgreen', 'coral'])\n",
    "plt.title('单个模型与集成模型AUPRC比较')\n",
    "plt.ylabel('AUPRC')\n",
    "plt.ylim(0, max(auprc_scores) * 1.1)\n",
    "\n",
    "# 在柱状图上标注具体分数\n",
    "for bar, score in zip(bars, auprc_scores):\n",
    "    plt.text(bar.get_x() + bar.get_width()/2, bar.get_height() + 0.01,\n",
    "             f'{score:.4f}', ha='center', va='bottom')\n",
    "\n",
    "plt.tight_layout()\n",
    "plt.show()\n",
    "\n",
    "# 绘制PR曲线比较\n",
    "print(\"\\n6.3.1 精确率-召回率曲线比较\")\n",
    "plt.figure(figsize=(10, 6))\n",
    "\n",
    "# LightGBM的PR曲线\n",
    "precision_gbm, recall_gbm, _ = precision_recall_curve(y_test, y_pred_gbm)\n",
    "plt.plot(recall_gbm, precision_gbm, 'b-', linewidth=2, label=f'LightGBM (AUPRC={gbm_auprc:.4f})')\n",
    "\n",
    "# XGBoost的PR曲线\n",
    "precision_xgb, recall_xgb, _ = precision_recall_curve(y_test, y_pred_xgb)\n",
    "plt.plot(recall_xgb, precision_xgb, 'g-', linewidth=2, label=f'XGBoost (AUPRC={xgb_auprc:.4f})')\n",
    "\n",
    "# 集成模型的PR曲线\n",
    "precision_ens, recall_ens, _ = precision_recall_curve(y_test, final_ensemble_pred)\n",
    "plt.plot(recall_ens, precision_ens, 'r-', linewidth=2, label=f'集成模型 (AUPRC={final_ensemble_auprc:.4f})')\n",
    "\n",
    "plt.title('各模型精确率-召回率曲线对比')\n",
    "plt.xlabel('召回率')\n",
    "plt.ylabel('精确率')\n",
    "plt.legend(loc='lower left')\n",
    "plt.grid(True)\n",
    "plt.show()\n",
    "\n",
    "# 计算改进幅度\n",
    "improvement = (final_ensemble_auprc - max(gbm_auprc, xgb_auprc)) / max(gbm_auprc, xgb_auprc) * 100\n",
    "print(f\"\\n集成模型带来的性能提升:\")\n",
    "print(f\"单个最佳模型AUPRC: {max(gbm_auprc, xgb_auprc):.4f}\")\n",
    "print(f\"集成模型AUPRC: {final_ensemble_auprc:.4f}\")\n",
    "print(f\"性能提升百分比: {improvement:.2f}%\")"
   ]
  },
  {
   "cell_type": "markdown",
   "metadata": {},
   "source": [
    "## 6.4 模型预测结果导出"
   ]
  },
  {
   "cell_type": "code",
   "execution_count": null,
   "metadata": {},
   "outputs": [],
   "source": [
    "import pandas as pd\n",
    "import os\n",
    "\n",
    "# 创建输出目录（如果不存在）\n",
    "os.makedirs('../outputs', exist_ok=True)\n",
    "\n",
    "# 创建一个DataFrame存储测试集ID和预测结果\n",
    "results_df = pd.DataFrame({\n",
    "    'ID': X_test.index,  # 假设索引是ID\n",
    "    'Fraud_Probability': final_ensemble_pred\n",
    "})\n",
    "\n",
    "# 添加模型的预测标签（使用0.5作为阈值）\n",
    "results_df['Predicted_Fraud'] = (final_ensemble_pred >= 0.5).astype(int)\n",
    "\n",
    "# 如果测试集有真实标签，也添加进去用于评估\n",
    "if y_test is not None:\n",
    "    results_df['Actual_Fraud'] = y_test.values\n",
    "    \n",
    "# 添加预测结果分析\n",
    "if 'Actual_Fraud' in results_df.columns:\n",
    "    results_df['Correct_Prediction'] = (results_df['Predicted_Fraud'] == results_df['Actual_Fraud'])\n",
    "    \n",
    "    # 计算高置信度预测的准确率\n",
    "    high_confidence = results_df[results_df['Fraud_Probability'] >= 0.8]\n",
    "    if len(high_confidence) > 0:\n",
    "        high_conf_accuracy = high_confidence['Correct_Prediction'].mean()\n",
    "        print(f\"高置信度预测(>= 0.8)的准确率: {high_conf_accuracy:.4f}\")\n",
    "        print(f\"高置信度样本数量: {len(high_confidence)}\")\n",
    "\n",
    "# 保存到CSV文件\n",
    "results_df.to_csv('../outputs/ensemble_predictions.csv', index=False)\n",
    "print(f\"集成模型预测结果已保存到 '../outputs/ensemble_predictions.csv'\")\n",
    "\n",
    "# 模型保存\n",
    "print(\"\\n保存最佳模型，以便后续使用\")\n",
    "# 保存LightGBM模型\n",
    "gbm_model.booster_.save_model('../outputs/lightgbm_model.txt')\n",
    "# 保存XGBoost模型\n",
    "xgb_model.save_model('../outputs/xgboost_model.json')\n",
    "# 保存集成参数\n",
    "import json\n",
    "with open('../outputs/ensemble_weights.json', 'w') as f:\n",
    "    json.dump({\"lightgbm_weight\": best_weight[0], \"xgboost_weight\": best_weight[1]}, f)\n",
    "\n",
    "print(\"所有模型和集成参数已保存\")"
   ]
  },
  {
   "cell_type": "markdown",
   "metadata": {},
   "source": [
    "## 6.5 集成模型总结"
   ]
  },
  {
   "cell_type": "code",
   "execution_count": null,
   "metadata": {},
   "outputs": [],
   "source": [
    "# 创建摘要表格\n",
    "summary_data = {\n",
    "    \"模型\": [\"LightGBM\", \"XGBoost\", \"集成模型\"],\n",
    "    \"AUPRC\": [f\"{gbm_auprc:.4f}\", f\"{xgb_auprc:.4f}\", f\"{final_ensemble_auprc:.4f}\"],\n",
    "    \"相对改进\": [\"基准\", f\"{(xgb_auprc-gbm_auprc)/gbm_auprc*100:.2f}%\" if gbm_auprc < xgb_auprc else \"基准\",\n",
    "                f\"{improvement:.2f}%\"]\n",
    "}\n",
    "\n",
    "summary_df = pd.DataFrame(summary_data)\n",
    "print(\"\\n模型性能摘要:\")\n",
    "print(summary_df.to_string(index=False))\n",
    "\n",
    "print(\"\\n主要发现:\")\n",
    "print(f\"1. 集成模型AUPRC({final_ensemble_auprc:.4f})优于单个模型\")\n",
    "print(f\"2. 最佳集成权重为LightGBM:{best_weight[0]:.1f}, XGBoost:{best_weight[1]:.1f}\")\n",
    "if best_weight[0] > best_weight[1]:\n",
    "    print(\"3. LightGBM在集成中贡献更大，说明其预测更准确\")\n",
    "else:\n",
    "    print(\"3. XGBoost在集成中贡献更大，说明其预测更准确\")\n",
    "print(f\"4. 集成带来了{improvement:.2f}%的性能提升\")\n",
    "\n",
    "print(\"\\n下一步建议:\")\n",
    "print(\"1. 考虑加入更多不同类型的模型到集成中\")\n",
    "print(\"2. 尝试更复杂的集成方法，如Stacking或Blending\")\n",
    "print(\"3. 探索不同模型在不同类型欺诈上的表现差异\")\n",
    "print(\"4. 根据模型预测置信度调整业务决策阈值\")"
   ]
  },
  {
   "cell_type": "markdown",
   "metadata": {},
   "source": [
    "# 7 可解释性分析"
   ]
  },
  {
   "cell_type": "code",
   "execution_count": null,
   "metadata": {},
   "outputs": [],
   "source": [
    "# 定义测试数据和选择的特征\n",
    "test_df = X_test  # 使用测试集作为分析数据\n",
    "selected_features = X_test.columns.tolist()  "
   ]
  },
  {
   "cell_type": "code",
   "execution_count": null,
   "metadata": {},
   "outputs": [],
   "source": [
    "# SHAP值分析\n",
    "explainer = shap.TreeExplainer(model)\n",
    "shap_values = explainer.shap_values(test_df[selected_features])"
   ]
  },
  {
   "cell_type": "code",
   "execution_count": null,
   "metadata": {},
   "outputs": [],
   "source": [
    "# 检查 shap_values 的结构\n",
    "print(f\"shap_values type: {type(shap_values)}\")\n",
    "if isinstance(shap_values, list):\n",
    "    print(f\"shap_values[0] shape: {shap_values[0].shape}\")\n",
    "    print(f\"shap_values[1] shape: {shap_values[1].shape}\")"
   ]
  },
  {
   "cell_type": "code",
   "execution_count": null,
   "metadata": {},
   "outputs": [],
   "source": [
    "# 绘制 SHAP summary plot\n",
    "plt.figure(figsize=(10, 6))\n",
    "if isinstance(shap_values, list):\n",
    "    # 如果是列表，选择正类（通常是 shap_values[1]）\n",
    "    shap.summary_plot(shap_values[1], test_df[selected_features], plot_type='bar', max_display=15)\n",
    "else:\n",
    "    # 如果是单个 ndarray，直接使用\n",
    "    shap.summary_plot(shap_values, test_df[selected_features], plot_type='bar', max_display=15)"
   ]
  }
 ],
 "metadata": {
  "kernelspec": {
   "display_name": "Python3.9 (ccfd)",
   "language": "python",
   "name": "ccfd"
  },
  "language_info": {
   "codemirror_mode": {
    "name": "ipython",
    "version": 3
   },
   "file_extension": ".py",
   "mimetype": "text/x-python",
   "name": "python",
   "nbconvert_exporter": "python",
   "pygments_lexer": "ipython3",
   "version": "3.9.21"
  }
 },
 "nbformat": 4,
 "nbformat_minor": 2
}
