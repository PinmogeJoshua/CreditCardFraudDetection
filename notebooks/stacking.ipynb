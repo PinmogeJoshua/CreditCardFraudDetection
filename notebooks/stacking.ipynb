{
 "cells": [
  {
   "cell_type": "markdown",
   "metadata": {},
   "source": [
    "# 1 数据准备"
   ]
  },
  {
   "cell_type": "markdown",
   "metadata": {},
   "source": [
    "## 1.1 导入必要的库"
   ]
  },
  {
   "cell_type": "code",
   "execution_count": 41,
   "metadata": {},
   "outputs": [],
   "source": [
    "import pandas as pd\n",
    "import numpy as np\n",
    "import matplotlib.pyplot as plt\n",
    "import seaborn as sns\n",
    "import os\n",
    "import joblib\n",
    "import warnings\n",
    "warnings.filterwarnings(\"ignore\")\n",
    "\n",
    "# 机器学习库\n",
    "from sklearn.model_selection import train_test_split, StratifiedKFold\n",
    "from sklearn.metrics import (\n",
    "    classification_report, precision_recall_curve, f1_score,\n",
    "    average_precision_score, auc, roc_auc_score, confusion_matrix\n",
    ")\n",
    "from sklearn.linear_model import LogisticRegression\n",
    "from sklearn.ensemble import RandomForestClassifier, StackingClassifier\n",
    "from sklearn.base import clone\n",
    "from xgboost import XGBClassifier\n",
    "from lightgbm import LGBMClassifier"
   ]
  },
  {
   "cell_type": "code",
   "execution_count": 42,
   "metadata": {},
   "outputs": [],
   "source": [
    "# 设置可视化风格\n",
    "plt.style.use('seaborn-v0_8-whitegrid')\n",
    "sns.set_palette('Set2')\n",
    "\n",
    "# 设置中文显示\n",
    "plt.rcParams['font.sans-serif'] = ['SimHei']  # 确保正常显示中文标签\n",
    "plt.rcParams['axes.unicode_minus'] = False  # 确保正常显示负号\n",
    "\n",
    "# 忽略警告\n",
    "import warnings\n",
    "warnings.filterwarnings(\"ignore\")"
   ]
  },
  {
   "cell_type": "markdown",
   "metadata": {},
   "source": [
    "## 1.2 加载与准备数据"
   ]
  },
  {
   "cell_type": "code",
   "execution_count": 47,
   "metadata": {},
   "outputs": [
    {
     "name": "stdout",
     "output_type": "stream",
     "text": [
      "加载已处理的数据集...\n",
      "数据加载成功！\n",
      "训练集形状: (454902, 19), 测试集形状: (56962, 19)\n",
      "训练集欺诈占比: 50.00%\n",
      "测试集欺诈占比: 0.17%\n",
      "特征数量: 19\n"
     ]
    }
   ],
   "source": [
    "# 加载数据\n",
    "import joblib\n",
    "import os\n",
    "\n",
    "# 检查保存的数据是否存在\n",
    "data_path = '../outputs/datasets/'\n",
    "feature_path = '../outputs/features/'\n",
    "required_files = [\n",
    "    data_path + 'X_train.pkl',\n",
    "    data_path + 'X_test.pkl', \n",
    "    data_path + 'y_train.pkl', \n",
    "    data_path + 'y_test.pkl',\n",
    "    feature_path + 'selected_features.pkl'\n",
    "]\n",
    "\n",
    "if all(os.path.exists(file) for file in required_files):\n",
    "    print(\"加载已处理的数据集...\")\n",
    "    X_train = joblib.load(data_path + 'X_train.pkl')\n",
    "    X_test = joblib.load(data_path + 'X_test.pkl')\n",
    "    y_train = joblib.load(data_path + 'y_train.pkl')\n",
    "    y_test = joblib.load(data_path + 'y_test.pkl')\n",
    "    selected_features = joblib.load(feature_path + 'selected_features.pkl')\n",
    "    \n",
    "    print(f\"数据加载成功！\")\n",
    "    print(f\"训练集形状: {X_train.shape}, 测试集形状: {X_test.shape}\")\n",
    "    print(f\"训练集欺诈占比: {y_train.mean()*100:.2f}%\") \n",
    "    print(f\"测试集欺诈占比: {y_test.mean()*100:.2f}%\")\n",
    "    print(f\"特征数量: {len(selected_features)}\")\n",
    "else:\n",
    "    print(\"未找到处理过的数据集。请先运行 ccfd.ipynb 进行数据处理和保存。\")"
   ]
  },
  {
   "cell_type": "code",
   "execution_count": 48,
   "metadata": {},
   "outputs": [
    {
     "name": "stdout",
     "output_type": "stream",
     "text": [
      "训练集大小: 454902 样本\n",
      "测试集大小: 56962 样本\n"
     ]
    }
   ],
   "source": [
    "print(f\"训练集大小: {X_train.shape[0]} 样本\")\n",
    "print(f\"测试集大小: {X_test.shape[0]} 样本\")"
   ]
  },
  {
   "cell_type": "markdown",
   "metadata": {},
   "source": [
    "# 2 基础模型训练"
   ]
  },
  {
   "cell_type": "markdown",
   "metadata": {},
   "source": [
    "## 2.1 定义和训练基础模型"
   ]
  },
  {
   "cell_type": "markdown",
   "metadata": {},
   "source": [
    "### 2.1.1 定义模型加载函数"
   ]
  },
  {
   "cell_type": "code",
   "execution_count": 49,
   "metadata": {},
   "outputs": [],
   "source": [
    "import os\n",
    "import joblib\n",
    "import lightgbm as lgb\n",
    "import xgboost as xgb\n",
    "import json\n",
    "\n",
    "def load_lightgbm_from_txt(filepath):\n",
    "    \"\"\"从.txt文件加载LightGBM模型\"\"\"\n",
    "    lgb_booster = lgb.Booster(model_file=filepath)\n",
    "    return lgb_booster\n",
    "\n",
    "def load_xgboost_from_json(filepath):\n",
    "    \"\"\"从.json文件加载XGBoost模型\"\"\"\n",
    "    # 加载模型\n",
    "    xgb_model = xgb.XGBClassifier()\n",
    "    xgb_model.load_model(filepath)\n",
    "    return xgb_model"
   ]
  },
  {
   "cell_type": "markdown",
   "metadata": {},
   "source": [
    "### 2.1.2 加载已训练模型"
   ]
  },
  {
   "cell_type": "code",
   "execution_count": 50,
   "metadata": {},
   "outputs": [
    {
     "name": "stdout",
     "output_type": "stream",
     "text": [
      "LightGBM模型使用的特征: 19 个\n",
      "LightGBM模型加载成功\n"
     ]
    }
   ],
   "source": [
    "# 定义模型路径\n",
    "lightgbm_model_path = '../models/best_lgb_model.txt'\n",
    "lightgbm_path = '../outputs/lightgbm_model.txt'\n",
    "xgboost_path = '../outputs/xgboost_model.json'\n",
    "\n",
    "# 加载LightGBM模型\n",
    "try:\n",
    "    # 创建LGBMClassifier对象并从文件加载\n",
    "    lgb_model = lgb.LGBMClassifier()\n",
    "    lgb_booster = lgb.Booster(model_file=lightgbm_model_path)\n",
    "    lgb_model._Booster = lgb_booster\n",
    "    \n",
    "    # 确保模型兼容现有特征\n",
    "    feature_names = lgb_booster.feature_name()\n",
    "    print(f\"LightGBM模型使用的特征: {len(feature_names)} 个\")\n",
    "    \n",
    "    # 检查特征一致性\n",
    "    missing_features = [f for f in feature_names if f not in X_train.columns]\n",
    "    extra_features = [f for f in X_train.columns if f not in feature_names]\n",
    "    \n",
    "    if missing_features:\n",
    "        print(f\"警告: 数据中缺少模型需要的特征: {missing_features}\")\n",
    "    if extra_features:\n",
    "        print(f\"警告: 数据中有模型不需要的额外特征: {extra_features}\")\n",
    "        \n",
    "    print(\"LightGBM模型加载成功\")\n",
    "except Exception as e:\n",
    "    print(f\"加载LightGBM模型出错: {e}\")\n",
    "    print(\"将训练新的LightGBM模型\")\n",
    "    gbm_model = lgb.LGBMClassifier(\n",
    "        n_estimators=100,\n",
    "        learning_rate=0.05,\n",
    "        max_depth=8,\n",
    "        class_weight='balanced',\n",
    "        random_state=42\n",
    "    )\n",
    "    gbm_model.fit(X_train, y_train)\n",
    "    print(\"新LightGBM模型训练完成\")"
   ]
  },
  {
   "cell_type": "code",
   "execution_count": 51,
   "metadata": {},
   "outputs": [
    {
     "name": "stdout",
     "output_type": "stream",
     "text": [
      "XGBoost模型加载成功\n"
     ]
    }
   ],
   "source": [
    "# 加载XGBoost模型\n",
    "try:\n",
    "    # 从文件加载XGBoost模型\n",
    "    xgb_model = xgb.XGBClassifier()\n",
    "    xgb_model.load_model(xgboost_path)\n",
    "    print(\"XGBoost模型加载成功\")\n",
    "except Exception as e:\n",
    "    print(f\"加载XGBoost模型出错: {e}\")\n",
    "    print(\"将训练新的XGBoost模型\")\n",
    "    xgb_model = xgb.XGBClassifier(\n",
    "        n_estimators=100,\n",
    "        learning_rate=0.05,\n",
    "        max_depth=6,\n",
    "        scale_pos_weight=len(y_train[y_train==0]) / len(y_train[y_train==1]),\n",
    "        random_state=42\n",
    "    )\n",
    "    xgb_model.fit(X_train, y_train)\n",
    "    print(\"新XGBoost模型训练完成\")"
   ]
  },
  {
   "cell_type": "code",
   "execution_count": 52,
   "metadata": {},
   "outputs": [
    {
     "name": "stdout",
     "output_type": "stream",
     "text": [
      "训练随机森林模型...\n",
      "随机森林模型训练完成\n"
     ]
    }
   ],
   "source": [
    "# 训练随机森林模型\n",
    "print(\"训练随机森林模型...\")\n",
    "rf_model = RandomForestClassifier(\n",
    "    n_estimators=100,\n",
    "    max_depth=12,\n",
    "    min_samples_split=10,\n",
    "    min_samples_leaf=4,\n",
    "    max_features='sqrt',\n",
    "    class_weight='balanced',\n",
    "    random_state=42,\n",
    "    n_jobs=-1\n",
    ")\n",
    "rf_model.fit(X_train, y_train)\n",
    "print(\"随机森林模型训练完成\")"
   ]
  },
  {
   "cell_type": "markdown",
   "metadata": {},
   "source": [
    "## 2.2 基础模型性能评估"
   ]
  },
  {
   "cell_type": "code",
   "execution_count": 53,
   "metadata": {},
   "outputs": [],
   "source": [
    "# 评估各基础模型性能\n",
    "base_models = {\n",
    "    'LightGBM': lgb_model,\n",
    "    'XGBoost': xgb_model,\n",
    "    'RandomForest': rf_model\n",
    "}\n",
    "\n",
    "# 存储模型性能指标\n",
    "model_metrics = {}\n",
    "model_predictions = {}"
   ]
  },
  {
   "cell_type": "code",
   "execution_count": 54,
   "metadata": {},
   "outputs": [
    {
     "name": "stdout",
     "output_type": "stream",
     "text": [
      "评估 LightGBM 模型...\n",
      "LightGBM 模型评估完成，AUPRC: 0.7479\n",
      "评估 XGBoost 模型...\n",
      "XGBoost 模型评估完成，AUPRC: 0.7929\n",
      "评估 RandomForest 模型...\n",
      "RandomForest 模型评估完成，AUPRC: 0.8263\n"
     ]
    }
   ],
   "source": [
    "# 评估每个模型\n",
    "for name, model in base_models.items():\n",
    "    try:\n",
    "        print(f\"评估 {name} 模型...\")\n",
    "        \n",
    "        # 检查模型是否为None或未训练\n",
    "        if model is None:\n",
    "            print(f\"跳过评估 {name} 模型，因为模型不可用\")\n",
    "            continue\n",
    "            \n",
    "        # 获取预测概率\n",
    "        try:\n",
    "            if isinstance(model, lgb.LGBMClassifier):\n",
    "                # 确保LightGBM模型可用\n",
    "                if not hasattr(model, '_Booster') or model._Booster is None:\n",
    "                    print(f\"跳过 {name} 评估，Booster对象不可用\")\n",
    "                    continue\n",
    "                    \n",
    "                # 直接使用Booster的predict方法\n",
    "                raw_preds = model._Booster.predict(X_test)\n",
    "                # 如果是原始分数，转换为概率\n",
    "                y_proba = 1 / (1 + np.exp(-raw_preds))\n",
    "            else:\n",
    "                # 其他模型使用predict_proba\n",
    "                y_proba = model.predict_proba(X_test)[:, 1]\n",
    "        except Exception as e:\n",
    "            print(f\"获取 {name} 预测时出错: {e}\")\n",
    "            # 尝试使用替代方法\n",
    "            try:\n",
    "                if hasattr(model, 'predict'):\n",
    "                    print(\"尝试使用predict方法...\")\n",
    "                    y_pred = model.predict(X_test)\n",
    "                    # 如果返回的是分类而不是概率，跳过此模型\n",
    "                    if np.all(np.isin(y_pred, [0, 1])):\n",
    "                        print(f\"模型 {name} 只返回分类，无法计算概率指标\")\n",
    "                        continue\n",
    "                    y_proba = y_pred  # 假设返回的是概率分数\n",
    "                else:\n",
    "                    print(f\"模型 {name} 没有可用的预测方法，跳过\")\n",
    "                    continue\n",
    "            except Exception as e2:\n",
    "                print(f\"替代预测方法也失败: {e2}\")\n",
    "                continue\n",
    "        \n",
    "        # 存储预测\n",
    "        model_predictions[name] = y_proba\n",
    "        \n",
    "        # 计算AUPRC\n",
    "        auprc = average_precision_score(y_test, y_proba)\n",
    "        \n",
    "        # 计算ROC AUC\n",
    "        roc_auc = roc_auc_score(y_test, y_proba)\n",
    "        \n",
    "        # 基于精确率-召回率曲线找最佳阈值\n",
    "        precision, recall, thresholds = precision_recall_curve(y_test, y_proba)\n",
    "        # 防止除零错误\n",
    "        if len(thresholds) > 0:\n",
    "            thresholds = np.append(thresholds, 1.0)\n",
    "            f1_scores = 2 * precision * recall / (precision + recall + 1e-10)\n",
    "            optimal_idx = np.argmax(f1_scores)\n",
    "            optimal_threshold = thresholds[optimal_idx]\n",
    "        else:\n",
    "            optimal_threshold = 0.5\n",
    "        \n",
    "        # 使用最佳阈值进行预测\n",
    "        y_pred = (y_proba >= optimal_threshold).astype(int)\n",
    "        \n",
    "        # 计算混淆矩阵\n",
    "        tn, fp, fn, tp = confusion_matrix(y_test, y_pred).ravel()\n",
    "        \n",
    "        # 计算其他指标\n",
    "        recall_val = tp / (tp + fn + 1e-10)  # 召回率/敏感度\n",
    "        precision_val = tp / (tp + fp + 1e-10)  # 精确率\n",
    "        specificity = tn / (tn + fp + 1e-10)  # 特异度\n",
    "        f1 = 2 * precision_val * recall_val / (precision_val + recall_val + 1e-10)  # F1分数\n",
    "        \n",
    "        # 存储指标\n",
    "        model_metrics[name] = {\n",
    "            'AUPRC': auprc,\n",
    "            'ROC AUC': roc_auc,\n",
    "            'Best Threshold': optimal_threshold,\n",
    "            'F1 Score': f1,\n",
    "            'Recall': recall_val,\n",
    "            'Precision': precision_val,\n",
    "            'Specificity': specificity,\n",
    "            'Confusion Matrix': {\n",
    "                'TN': tn, 'FP': fp, \n",
    "                'FN': fn, 'TP': tp\n",
    "            }\n",
    "        }\n",
    "        \n",
    "        print(f\"{name} 模型评估完成，AUPRC: {auprc:.4f}\")\n",
    "    except Exception as e:\n",
    "        print(f\"评估 {name} 模型时发生错误: {e}\")\n",
    "        continue"
   ]
  },
  {
   "cell_type": "code",
   "execution_count": 55,
   "metadata": {},
   "outputs": [
    {
     "name": "stdout",
     "output_type": "stream",
     "text": [
      "\n",
      "基础模型性能:\n",
      "LightGBM: AUPRC = 0.7479, 最佳阈值 = 0.69, F1 = 0.8168\n",
      "\n",
      "LightGBM 模型:\n",
      "  AUPRC: 0.7479\n",
      "  ROC AUC: 0.9773\n",
      "  最佳阈值: 0.6874\n",
      "  F1分数: 0.8168\n",
      "  召回率/敏感度: 0.7959\n",
      "  精确率: 0.8387\n",
      "  特异度: 0.9997\n",
      "  混淆矩阵: [TN=56849, FP=15, FN=20, TP=78]\n",
      "XGBoost: AUPRC = 0.7929, 最佳阈值 = 0.95, F1 = 0.8205\n",
      "\n",
      "XGBoost 模型:\n",
      "  AUPRC: 0.7929\n",
      "  ROC AUC: 0.9788\n",
      "  最佳阈值: 0.9535\n",
      "  F1分数: 0.8205\n",
      "  召回率/敏感度: 0.8163\n",
      "  精确率: 0.8247\n",
      "  特异度: 0.9997\n",
      "  混淆矩阵: [TN=56847, FP=17, FN=18, TP=80]\n",
      "RandomForest: AUPRC = 0.8263, 最佳阈值 = 0.88, F1 = 0.8000\n",
      "\n",
      "RandomForest 模型:\n",
      "  AUPRC: 0.8263\n",
      "  ROC AUC: 0.9812\n",
      "  最佳阈值: 0.8784\n",
      "  F1分数: 0.8000\n",
      "  召回率/敏感度: 0.7347\n",
      "  精确率: 0.8780\n",
      "  特异度: 0.9998\n",
      "  混淆矩阵: [TN=56854, FP=10, FN=26, TP=72]\n"
     ]
    }
   ],
   "source": [
    "# 打印性能\n",
    "print(\"\\n基础模型性能:\")\n",
    "for name, metrics in model_metrics.items():\n",
    "    print(f\"{name}: AUPRC = {metrics['AUPRC']:.4f}, 最佳阈值 = {metrics['Best Threshold']:.2f}, F1 = {metrics['F1 Score']:.4f}\")\n",
    "    print(f\"\\n{name} 模型:\")\n",
    "    print(f\"  AUPRC: {metrics['AUPRC']:.4f}\")\n",
    "    print(f\"  ROC AUC: {metrics['ROC AUC']:.4f}\")\n",
    "    print(f\"  最佳阈值: {metrics['Best Threshold']:.4f}\")\n",
    "    print(f\"  F1分数: {metrics['F1 Score']:.4f}\")\n",
    "    print(f\"  召回率/敏感度: {metrics['Recall']:.4f}\")\n",
    "    print(f\"  精确率: {metrics['Precision']:.4f}\")\n",
    "    print(f\"  特异度: {metrics['Specificity']:.4f}\")\n",
    "    cm = metrics['Confusion Matrix']\n",
    "    print(f\"  混淆矩阵: [TN={cm['TN']}, FP={cm['FP']}, FN={cm['FN']}, TP={cm['TP']}]\")"
   ]
  },
  {
   "cell_type": "markdown",
   "metadata": {},
   "source": [
    "# 3 Stacking 模型实现"
   ]
  },
  {
   "cell_type": "markdown",
   "metadata": {},
   "source": [
    "## 3.1 标准 Stacking 实现"
   ]
  },
  {
   "cell_type": "code",
   "execution_count": 56,
   "metadata": {},
   "outputs": [],
   "source": [
    "# 定义基础模型列表\n",
    "base_models_list = [\n",
    "    ('lightgbm', lgb_model),\n",
    "    ('xgboost', xgb_model),\n",
    "    ('rf', rf_model)\n",
    "]\n",
    "\n",
    "# 定义元学习器（使用逻辑回归方法）\n",
    "meta_learner = LogisticRegression(C=1.0, class_weight='balanced', random_state=42)"
   ]
  },
  {
   "cell_type": "code",
   "execution_count": 57,
   "metadata": {},
   "outputs": [
    {
     "name": "stdout",
     "output_type": "stream",
     "text": [
      "标准 Stacking 模型 AUPRC: 0.8580\n"
     ]
    }
   ],
   "source": [
    "# 创建 Stacking 集成模型\n",
    "stacking_model = StackingClassifier(\n",
    "    estimators=base_models_list,\n",
    "    final_estimator=meta_learner,\n",
    "    cv=5,  # 5折交叉验证来训练元学习器\n",
    "    stack_method='predict_proba',  # 使用概率预测作为元特征\n",
    "    n_jobs=-1,\n",
    "    verbose=1\n",
    ")\n",
    "\n",
    "# 训练 Stacking 模型\n",
    "stacking_model.fit(X_train, y_train)\n",
    "\n",
    "# 评估 Stacking 模型\n",
    "stacking_pred_proba = stacking_model.predict_proba(X_test)[:, 1]\n",
    "stacking_auprc = average_precision_score(y_test, stacking_pred_proba)\n",
    "print(f\"标准 Stacking 模型 AUPRC: {stacking_auprc:.4f}\")"
   ]
  },
  {
   "cell_type": "code",
   "execution_count": 58,
   "metadata": {},
   "outputs": [
    {
     "name": "stdout",
     "output_type": "stream",
     "text": [
      "Stacking模型最佳阈值: 0.9934\n"
     ]
    }
   ],
   "source": [
    "precision, recall, thresholds = precision_recall_curve(y_test, stacking_pred_proba)\n",
    "thresholds = np.append(thresholds, 1.0)\n",
    "f1_scores = 2 * precision * recall / (precision + recall + 1e-10)\n",
    "optimal_idx = np.argmax(f1_scores)\n",
    "optimal_threshold = thresholds[optimal_idx]\n",
    "\n",
    "print(f\"Stacking模型最佳阈值: {optimal_threshold:.4f}\")\n",
    "\n",
    "# 使用最佳阈值预测\n",
    "stacking_pred = (stacking_pred_proba >= optimal_threshold).astype(int)\n",
    "stacking_cm = confusion_matrix(y_test, stacking_pred)\n",
    "tn, fp, fn, tp = stacking_cm.ravel()\n",
    "\n",
    "# 计算其他指标\n",
    "stacking_metrics = {\n",
    "    'AUPRC': stacking_auprc,\n",
    "    'ROC AUC': roc_auc_score(y_test, stacking_pred_proba),\n",
    "    'Best Threshold': optimal_threshold,\n",
    "    'F1 Score': f1_score(y_test, stacking_pred),\n",
    "    'Recall': tp / (tp + fn + 1e-10),\n",
    "    'Precision': tp / (tp + fp + 1e-10),\n",
    "    'Specificity': tn / (tn + fp + 1e-10),\n",
    "    'Confusion Matrix': {\n",
    "        'TN': tn, 'FP': fp, \n",
    "        'FN': fn, 'TP': tp\n",
    "    }\n",
    "}"
   ]
  },
  {
   "cell_type": "code",
   "execution_count": 59,
   "metadata": {},
   "outputs": [],
   "source": [
    "# 存储预测和指标\n",
    "model_predictions['Stacking'] = stacking_pred_proba\n",
    "model_metrics['Stacking'] = stacking_metrics"
   ]
  },
  {
   "cell_type": "code",
   "execution_count": 60,
   "metadata": {},
   "outputs": [
    {
     "name": "stdout",
     "output_type": "stream",
     "text": [
      "\n",
      "Stacking模型性能:\n",
      "  AUPRC: 0.8580\n",
      "  ROC AUC: 0.9808\n",
      "  F1分数: 0.8556\n",
      "  召回率: 0.7857\n",
      "  精确率: 0.9390\n",
      "  特异度: 0.9999\n",
      "  混淆矩阵: [TN=56859, FP=5, FN=21, TP=77]\n"
     ]
    }
   ],
   "source": [
    "print(\"\\nStacking模型性能:\")\n",
    "print(f\"  AUPRC: {stacking_metrics['AUPRC']:.4f}\")\n",
    "print(f\"  ROC AUC: {stacking_metrics['ROC AUC']:.4f}\")\n",
    "print(f\"  F1分数: {stacking_metrics['F1 Score']:.4f}\")\n",
    "print(f\"  召回率: {stacking_metrics['Recall']:.4f}\")\n",
    "print(f\"  精确率: {stacking_metrics['Precision']:.4f}\")\n",
    "print(f\"  特异度: {stacking_metrics['Specificity']:.4f}\")\n",
    "cm = stacking_metrics['Confusion Matrix']\n",
    "print(f\"  混淆矩阵: [TN={cm['TN']}, FP={cm['FP']}, FN={cm['FN']}, TP={cm['TP']}]\")"
   ]
  },
  {
   "cell_type": "markdown",
   "metadata": {},
   "source": [
    "## 3.2 加权平均集成"
   ]
  },
  {
   "cell_type": "code",
   "execution_count": 61,
   "metadata": {},
   "outputs": [],
   "source": [
    "# 穷举不同权重组合，寻找最佳权重\n",
    "best_auprc = 0\n",
    "best_weight = None\n",
    "\n",
    "weight_grid = np.linspace(0.1, 0.9, 9)\n",
    "for w1 in weight_grid:\n",
    "    for w2 in weight_grid:\n",
    "        if w1 + w2 <= 1.0:\n",
    "            w3 = 1.0 - w1 - w2  # 确保权重之和为1\n",
    "            weights = [w1, w2, w3]\n",
    "            \n",
    "            # 计算加权平均\n",
    "            weighted_pred = (\n",
    "                weights[0] * model_predictions['LightGBM'] + \n",
    "                weights[1] * model_predictions['XGBoost'] + \n",
    "                weights[2] * model_predictions['RandomForest']\n",
    "            )\n",
    "            \n",
    "            # 计算性能\n",
    "            auprc = average_precision_score(y_test, weighted_pred)\n",
    "            \n",
    "            if auprc > best_auprc:\n",
    "                best_auprc = auprc\n",
    "                best_weight = weights"
   ]
  },
  {
   "cell_type": "code",
   "execution_count": 62,
   "metadata": {},
   "outputs": [],
   "source": [
    "# 使用最佳权重计算最终预测\n",
    "final_weighted_pred = (\n",
    "    best_weight[0] * model_predictions['LightGBM'] + \n",
    "    best_weight[1] * model_predictions['XGBoost'] + \n",
    "    best_weight[2] * model_predictions['RandomForest']\n",
    ")"
   ]
  },
  {
   "cell_type": "code",
   "execution_count": 63,
   "metadata": {},
   "outputs": [
    {
     "name": "stdout",
     "output_type": "stream",
     "text": [
      "加权平均集成 AUPRC: 0.8314\n",
      "最佳权重: LightGBM=0.60, XGBoost=0.10, RandomForest=0.30\n"
     ]
    }
   ],
   "source": [
    "# 计算最终AUPRC\n",
    "weighted_auprc = average_precision_score(y_test, final_weighted_pred)\n",
    "print(f\"加权平均集成 AUPRC: {weighted_auprc:.4f}\")\n",
    "print(f\"最佳权重: LightGBM={best_weight[0]:.2f}, XGBoost={best_weight[1]:.2f}, RandomForest={best_weight[2]:.2f}\")\n",
    "\n",
    "# 存储预测结果\n",
    "model_predictions['加权平均'] = final_weighted_pred\n",
    "model_metrics['加权平均'] = {'AUPRC': weighted_auprc}"
   ]
  },
  {
   "cell_type": "markdown",
   "metadata": {},
   "source": [
    "## 3.3 特征加强"
   ]
  },
  {
   "cell_type": "code",
   "execution_count": 64,
   "metadata": {},
   "outputs": [],
   "source": [
    "# 基础模型列表\n",
    "base_classifiers = [lgb_model, xgb_model, rf_model]\n",
    "\n",
    "# 准备存储基础模型的交叉验证预测\n",
    "cv_predictions = np.zeros((X_train.shape[0], len(base_classifiers)))\n",
    "test_predictions = np.zeros((X_test.shape[0], len(base_classifiers)))"
   ]
  },
  {
   "cell_type": "code",
   "execution_count": 65,
   "metadata": {},
   "outputs": [
    {
     "name": "stdout",
     "output_type": "stream",
     "text": [
      "训练基础模型 1/3...\n",
      "[LightGBM] [Info] Number of positive: 181961, number of negative: 181960\n",
      "[LightGBM] [Info] Auto-choosing col-wise multi-threading, the overhead of testing was 0.006890 seconds.\n",
      "You can set `force_col_wise=true` to remove the overhead.\n",
      "[LightGBM] [Info] Total Bins 4592\n",
      "[LightGBM] [Info] Number of data points in the train set: 363921, number of used features: 19\n",
      "[LightGBM] [Info] [binary:BoostFromScore]: pavg=0.500001 -> initscore=0.000005\n",
      "[LightGBM] [Info] Start training from score 0.000005\n",
      "[LightGBM] [Info] Number of positive: 181960, number of negative: 181961\n",
      "[LightGBM] [Info] Auto-choosing col-wise multi-threading, the overhead of testing was 0.006829 seconds.\n",
      "You can set `force_col_wise=true` to remove the overhead.\n",
      "[LightGBM] [Info] Total Bins 4592\n",
      "[LightGBM] [Info] Number of data points in the train set: 363921, number of used features: 19\n",
      "[LightGBM] [Info] [binary:BoostFromScore]: pavg=0.499999 -> initscore=-0.000005\n",
      "[LightGBM] [Info] Start training from score -0.000005\n",
      "[LightGBM] [Info] Number of positive: 181961, number of negative: 181961\n",
      "[LightGBM] [Info] Auto-choosing col-wise multi-threading, the overhead of testing was 0.006300 seconds.\n",
      "You can set `force_col_wise=true` to remove the overhead.\n",
      "[LightGBM] [Info] Total Bins 4592\n",
      "[LightGBM] [Info] Number of data points in the train set: 363922, number of used features: 19\n",
      "[LightGBM] [Info] [binary:BoostFromScore]: pavg=0.500000 -> initscore=0.000000\n",
      "[LightGBM] [Info] Number of positive: 181961, number of negative: 181961\n",
      "[LightGBM] [Info] Auto-choosing col-wise multi-threading, the overhead of testing was 0.006371 seconds.\n",
      "You can set `force_col_wise=true` to remove the overhead.\n",
      "[LightGBM] [Info] Total Bins 4592\n",
      "[LightGBM] [Info] Number of data points in the train set: 363922, number of used features: 19\n",
      "[LightGBM] [Info] [binary:BoostFromScore]: pavg=0.500000 -> initscore=0.000000\n",
      "[LightGBM] [Info] Number of positive: 181961, number of negative: 181961\n",
      "[LightGBM] [Info] Auto-choosing col-wise multi-threading, the overhead of testing was 0.006493 seconds.\n",
      "You can set `force_col_wise=true` to remove the overhead.\n",
      "[LightGBM] [Info] Total Bins 4592\n",
      "[LightGBM] [Info] Number of data points in the train set: 363922, number of used features: 19\n",
      "[LightGBM] [Info] [binary:BoostFromScore]: pavg=0.500000 -> initscore=0.000000\n",
      "训练基础模型 2/3...\n",
      "训练基础模型 3/3...\n"
     ]
    }
   ],
   "source": [
    "# 定义交叉验证策略\n",
    "kfold = StratifiedKFold(n_splits=5, shuffle=True, random_state=42)\n",
    "\n",
    "# 对每个基础模型进行交叉验证预测\n",
    "for i, clf in enumerate(base_classifiers):\n",
    "    print(f\"训练基础模型 {i+1}/{len(base_classifiers)}...\")\n",
    "    \n",
    "    # 存储每一折的测试集预测\n",
    "    test_fold_predictions = np.zeros((X_test.shape[0], kfold.n_splits))\n",
    "    \n",
    "    # 交叉验证循环\n",
    "    for j, (train_idx, val_idx) in enumerate(kfold.split(X_train, y_train)):\n",
    "        # 分割数据\n",
    "        X_fold_train, X_fold_val = X_train.iloc[train_idx], X_train.iloc[val_idx]\n",
    "        y_fold_train, y_fold_val = y_train.iloc[train_idx], y_train.iloc[val_idx]\n",
    "        \n",
    "        # 克隆模型并训练\n",
    "        fold_clf = clone(clf)\n",
    "        fold_clf.fit(X_fold_train, y_fold_train)\n",
    "        \n",
    "        # 预测验证集和测试集\n",
    "        cv_predictions[val_idx, i] = fold_clf.predict_proba(X_fold_val)[:, 1]\n",
    "        test_fold_predictions[:, j] = fold_clf.predict_proba(X_test)[:, 1]\n",
    "    \n",
    "    # 对测试集取平均\n",
    "    test_predictions[:, i] = test_fold_predictions.mean(axis=1)"
   ]
  },
  {
   "cell_type": "code",
   "execution_count": 66,
   "metadata": {},
   "outputs": [
    {
     "name": "stdout",
     "output_type": "stream",
     "text": [
      "特征增强型Stacking AUPRC: 0.8340\n"
     ]
    }
   ],
   "source": [
    "# 创建用于元学习器的训练和测试特征\n",
    "# 将原始特征与模型预测结合\n",
    "meta_train_features = np.hstack([X_train.values, cv_predictions])\n",
    "meta_test_features = np.hstack([X_test.values, test_predictions])\n",
    "\n",
    "# 训练元学习器\n",
    "meta_model = LogisticRegression(C=1.0, class_weight='balanced', random_state=42)\n",
    "meta_model.fit(meta_train_features, y_train)\n",
    "\n",
    "# 预测测试集\n",
    "enhanced_preds = meta_model.predict_proba(meta_test_features)[:, 1]\n",
    "\n",
    "# 计算性能\n",
    "enhanced_stacking_auprc = average_precision_score(y_test, enhanced_preds)\n",
    "print(f\"特征增强型Stacking AUPRC: {enhanced_stacking_auprc:.4f}\")\n",
    "\n",
    "# 存储预测结果\n",
    "model_predictions['特征增强型Stacking'] = enhanced_preds\n",
    "model_metrics['特征增强型Stacking'] = {'AUPRC': enhanced_stacking_auprc}"
   ]
  },
  {
   "cell_type": "markdown",
   "metadata": {},
   "source": [
    "# 4 模型评估和可视化"
   ]
  },
  {
   "cell_type": "markdown",
   "metadata": {},
   "source": [
    "## 4.1 绘制性能比较图"
   ]
  },
  {
   "cell_type": "code",
   "execution_count": 71,
   "metadata": {},
   "outputs": [
    {
     "data": {
      "image/png": "[encoded data removed]",
      "text/plain": [
       "<Figure size 1200x600 with 1 Axes>"
      ]
     },
     "metadata": {},
     "output_type": "display_data"
    }
   ],
   "source": [
    "# 绘制不同模型的AUPRC条形图比较\n",
    "model_names = list(model_metrics.keys())\n",
    "auprc_values = [metrics['AUPRC'] for metrics in model_metrics.values()]\n",
    "\n",
    "plt.figure(figsize=(12, 6))\n",
    "bars = plt.bar(model_names, auprc_values, color=['#3498db', '#2ecc71', '#e74c3c', '#9b59b6', '#f39c12'])\n",
    "\n",
    "# 在条形上方显示AUPRC值\n",
    "for bar, auprc in zip(bars, auprc_values):\n",
    "    plt.text(bar.get_x() + bar.get_width()/2, bar.get_height() + 0.01,\n",
    "            f'{auprc:.4f}', ha='center', fontsize=12)\n",
    "\n",
    "plt.ylabel('AUPRC', fontsize=14)\n",
    "plt.title('不同模型的AUPRC比较', fontsize=16)\n",
    "plt.ylim(min(auprc_values) * 0.95, max(auprc_values) * 1.05)  # 调整Y轴范围\n",
    "plt.grid(True, alpha=0.3, axis='y')\n",
    "plt.xticks(rotation=30, ha='right')\n",
    "\n",
    "# 确保输出目录存在\n",
    "os.makedirs('../outputs', exist_ok=True)\n",
    "plt.savefig('../outputs/visualization/model_comparison_auprc_bars.png', dpi=300, bbox_inches='tight')\n",
    "plt.show()"
   ]
  },
  {
   "cell_type": "markdown",
   "metadata": {},
   "source": [
    "## 4.2 绘制 PR 曲线"
   ]
  },
  {
   "cell_type": "code",
   "execution_count": 72,
   "metadata": {},
   "outputs": [
    {
     "data": {
      "image/png": "[encoded data removed]",
      "text/plain": [
       "<Figure size 1000x800 with 1 Axes>"
      ]
     },
     "metadata": {},
     "output_type": "display_data"
    }
   ],
   "source": [
    "plt.figure(figsize=(10, 8))\n",
    "\n",
    "# 计算基线\n",
    "baseline = y_test.mean()\n",
    "\n",
    "# 绘制每个模型的PR曲线\n",
    "for name, y_prob in model_predictions.items():\n",
    "    precision, recall, _ = precision_recall_curve(y_test, y_prob)\n",
    "    auprc = average_precision_score(y_test, y_prob)\n",
    "    plt.plot(recall, precision, lw=2, label=f'{name} (AUPRC: {auprc:.4f})')\n",
    "\n",
    "# 绘制随机预测的基线\n",
    "plt.plot([0, 1], [baseline, baseline], 'k--', lw=2, label=f'随机预测 (AUPRC: {baseline:.4f})')\n",
    "\n",
    "plt.xlabel('召回率 (Recall)', fontsize=14)\n",
    "plt.ylabel('精确率 (Precision)', fontsize=14)\n",
    "plt.title('不同模型的 Precision-Recall 曲线比较', fontsize=16)\n",
    "plt.legend(loc='best', fontsize=12)\n",
    "plt.grid(True, alpha=0.3)\n",
    "\n",
    "plt.savefig('../outputs/visualization/model_comparison_pr_curves.png', dpi=300, bbox_inches='tight')\n",
    "plt.show()"
   ]
  },
  {
   "cell_type": "markdown",
   "metadata": {},
   "source": [
    "# 5 模型保存与结果输出"
   ]
  },
  {
   "cell_type": "markdown",
   "metadata": {},
   "source": [
    "## 5.1 保存最佳模型"
   ]
  },
  {
   "cell_type": "code",
   "execution_count": 70,
   "metadata": {},
   "outputs": [
    {
     "name": "stdout",
     "output_type": "stream",
     "text": [
      "最佳模型是 Stacking，AUPRC: 0.8580\n",
      "标准Stacking模型已保存到 '../outputs/stacking/stacking_model.pkl'\n",
      "特征增强型Stacking元学习器已保存到 '../outputs/enhanced_stacking/enhanced_stacking_meta_learner.pkl'\n",
      "基础模型测试集预测已保存\n"
     ]
    }
   ],
   "source": [
    "# 确定最佳模型\n",
    "best_model_name = max(model_metrics, key=lambda k: model_metrics[k]['AUPRC'])\n",
    "best_model_auprc = model_metrics[best_model_name]['AUPRC']\n",
    "print(f\"最佳模型是 {best_model_name}，AUPRC: {best_model_auprc:.4f}\")\n",
    "\n",
    "# 保存Stacking模型\n",
    "joblib.dump(stacking_model, '../outputs/stacking/stacking_model.pkl')\n",
    "print(\"标准Stacking模型已保存到 '../outputs/stacking/stacking_model.pkl'\")\n",
    "\n",
    "# 保存特征增强型Stacking模型的元学习器\n",
    "joblib.dump(meta_model, '../outputs/enhanced_stacking/enhanced_stacking_meta_learner.pkl')\n",
    "print(\"特征增强型Stacking元学习器已保存到 '../outputs/enhanced_stacking/enhanced_stacking_meta_learner.pkl'\")\n",
    "\n",
    "# 保存基础模型预测的结果，以便后续使用\n",
    "np.save('../outputs/base_model_test_predictions.npy', test_predictions)\n",
    "print(\"基础模型测试集预测已保存\")"
   ]
  },
  {
   "cell_type": "markdown",
   "metadata": {},
   "source": [
    "## 5.2 生成预测结果"
   ]
  },
  {
   "cell_type": "code",
   "execution_count": 73,
   "metadata": {},
   "outputs": [
    {
     "name": "stdout",
     "output_type": "stream",
     "text": [
      "最佳模型(Stacking)预测结果已保存\n"
     ]
    }
   ],
   "source": [
    "# 获取最佳模型的预测\n",
    "best_predictions = model_predictions[best_model_name]\n",
    "\n",
    "# 创建一个DataFrame存储测试集ID和预测结果\n",
    "results_df = pd.DataFrame({\n",
    "    'ID': X_test.index,\n",
    "    'Fraud_Probability': best_predictions\n",
    "})\n",
    "\n",
    "# 添加模型的预测标签（使用0.5作为阈值，可根据需要调整）\n",
    "results_df['Predicted_Fraud'] = (best_predictions >= 0.5).astype(int)\n",
    "\n",
    "# 添加真实标签\n",
    "results_df['Actual_Fraud'] = y_test.values\n",
    "\n",
    "# 添加预测结果分析\n",
    "results_df['Correct_Prediction'] = (results_df['Predicted_Fraud'] == results_df['Actual_Fraud'])\n",
    "\n",
    "# 保存到CSV文件\n",
    "results_df.to_csv(f'../outputs/stacking/{best_model_name}_predictions.csv', index=False)\n",
    "print(f\"最佳模型({best_model_name})预测结果已保存\")"
   ]
  },
  {
   "cell_type": "markdown",
   "metadata": {},
   "source": [
    "## 5.3 结果摘要"
   ]
  },
  {
   "cell_type": "code",
   "execution_count": null,
   "metadata": {},
   "outputs": [
    {
     "name": "stdout",
     "output_type": "stream",
     "text": [
      "\n",
      "模型性能摘要:\n",
      "           模型  AUPRC       相对改进\n",
      "     LightGBM 0.7479     -9.50%\n",
      "      XGBoost 0.7929     -4.04%\n",
      " RandomForest 0.8263 基准(0.8263)\n",
      "     Stacking 0.8580      3.83%\n",
      "         加权平均 0.8314      0.61%\n",
      "特征增强型Stacking 0.8340      0.92%\n",
      "\n",
      "主要发现:\n",
      "1. Stacking模型AUPRC(0.8580)优于单个基础模型\n",
      "2. 相比最佳单一模型(RandomForest)，Stacking提升了3.83%的性能\n",
      "3. 标准Stacking模型表现最好，说明基础模型之间有良好的互补性\n",
      "\n",
      "下一步建议:\n",
      "1. 调整Stacking中元学习器的参数，可以尝试不同的算法如随机森林或XGBoost\n",
      "2. 为不同类型的欺诈构建专门的模型，然后进行集成\n",
      "3. 基于时间窗口或特征重要性进行特征工程，提高模型性能\n",
      "4. 考虑采用自适应阈值或代价敏感学习方法，进一步优化模型\n"
     ]
    }
   ],
   "source": [
    "# 计算性能提升\n",
    "baseline_auprc = max(model_metrics['LightGBM']['AUPRC'], \n",
    "                     model_metrics['XGBoost']['AUPRC'],\n",
    "                     model_metrics['RandomForest']['AUPRC'])\n",
    "baseline_model = 'LightGBM'\n",
    "for model in ['LightGBM', 'XGBoost', 'RandomForest']:\n",
    "    if model_metrics[model]['AUPRC'] == baseline_auprc:\n",
    "        baseline_model = model\n",
    "        break\n",
    "\n",
    "best_model_name = max(model_metrics, key=lambda k: model_metrics[k]['AUPRC'])\n",
    "best_model_auprc = model_metrics[best_model_name]['AUPRC']\n",
    "improvement = (best_model_auprc - baseline_auprc) / baseline_auprc * 100\n",
    "\n",
    "# 创建摘要表格\n",
    "summary_data = {\n",
    "    \"模型\": list(model_metrics.keys()),\n",
    "    \"AUPRC\": [f\"{model_metrics[model]['AUPRC']:.4f}\" for model in model_metrics],\n",
    "    \"相对改进\": [f\"基准({baseline_auprc:.4f})\" if model == baseline_model \n",
    "                else f\"{(model_metrics[model]['AUPRC'] - baseline_auprc) / baseline_auprc * 100:.2f}%\" \n",
    "                for model in model_metrics]\n",
    "}\n",
    "\n",
    "summary_df = pd.DataFrame(summary_data)\n",
    "print(\"\\n模型性能摘要:\")\n",
    "print(summary_df.to_string(index=False))\n",
    "\n",
    "print(\"\\n主要发现:\")\n",
    "print(f\"1. {best_model_name}模型AUPRC({best_model_auprc:.4f})优于单个基础模型\")\n",
    "print(f\"2. 相比最佳单一模型({baseline_model})，Stacking提升了{improvement:.2f}%的性能\")\n",
    "if best_model_name == 'Stacking':\n",
    "    print(\"3. 标准Stacking模型表现最好，说明基础模型之间有良好的互补性\")\n",
    "elif best_model_name == '特征增强型Stacking':\n",
    "    print(\"3. 特征增强型Stacking表现最好，说明结合原始特征有助于提高性能\")\n",
    "elif best_model_name == '加权平均':\n",
    "    print(\"3. 加权平均模型表现最好，这是一种更简单但有效的集成方法\")\n",
    "\n",
    "print(\"\\n下一步建议:\")\n",
    "print(\"1. 调整Stacking中元学习器的参数，可以尝试不同的算法如随机森林或XGBoost\")\n",
    "print(\"2. 为不同类型的欺诈构建专门的模型，然后进行集成\")\n",
    "print(\"3. 基于时间窗口或特征重要性进行特征工程，提高模型性能\")\n",
    "print(\"4. 考虑采用自适应阈值或代价敏感学习方法，进一步优化模型\")"
   ]
  }
 ],
 "metadata": {
  "kernelspec": {
   "display_name": "Python 3.9(ccfd)",
   "language": "python",
   "name": "ccfd"
  },
  "language_info": {
   "codemirror_mode": {
    "name": "ipython",
    "version": 3
   },
   "file_extension": ".py",
   "mimetype": "text/x-python",
   "name": "python",
   "nbconvert_exporter": "python",
   "pygments_lexer": "ipython3",
   "version": "3.9.21"
  }
 },
 "nbformat": 4,
 "nbformat_minor": 2
}
